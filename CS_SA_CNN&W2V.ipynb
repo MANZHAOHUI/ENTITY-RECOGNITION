{
  "nbformat": 4,
  "nbformat_minor": 0,
  "metadata": {
    "colab": {
      "name": "CS_SA_CNN&W2V.ipynb",
      "provenance": [],
      "collapsed_sections": [],
      "machine_shape": "hm",
      "include_colab_link": true
    },
    "kernelspec": {
      "name": "python2",
      "display_name": "Python 2"
    },
    "accelerator": "GPU"
  },
  "cells": [
    {
      "cell_type": "markdown",
      "metadata": {
        "id": "view-in-github",
        "colab_type": "text"
      },
      "source": [
        "<a href=\"https://colab.research.google.com/github/MANZHAOHUI/ENTITY-RECOGNITION/blob/master/CS_SA_CNN%26W2V.ipynb\" target=\"_parent\"><img src=\"https://colab.research.google.com/assets/colab-badge.svg\" alt=\"Open In Colab\"/></a>"
      ]
    },
    {
      "cell_type": "code",
      "metadata": {
        "id": "Ew6yKCmSv-lD",
        "colab_type": "code",
        "colab": {}
      },
      "source": [
        "import pandas as pd  \n",
        "import numpy as np\n",
        "import matplotlib.pyplot as plt\n",
        "plt.style.use('fivethirtyeight')\n",
        "\n",
        "%matplotlib inline\n",
        "%config InlineBackend.figure_format = 'retina'"
      ],
      "execution_count": 0,
      "outputs": []
    },
    {
      "cell_type": "code",
      "metadata": {
        "id": "JnyKYJ50wXbx",
        "colab_type": "code",
        "outputId": "937ad209-095f-4c32-b604-7a320262153a",
        "colab": {
          "resources": {
            "http://localhost:8080/nbextensions/google.colab/files.js": {
              "data": "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",
              "ok": true,
              "headers": [
                [
                  "content-type",
                  "application/javascript"
                ]
              ],
              "status": 200,
              "status_text": ""
            }
          },
          "base_uri": "https://localhost:8080/",
          "height": 74
        }
      },
      "source": [
        "from google.colab import files \n",
        "uploaded = files.upload() "
      ],
      "execution_count": 0,
      "outputs": [
        {
          "output_type": "display_data",
          "data": {
            "text/plain": [
              "<IPython.core.display.HTML object>"
            ],
            "text/html": [
              "\n",
              "     <input type=\"file\" id=\"files-2df14e85-8710-4a2a-bc81-c1574cdb2abb\" name=\"files[]\" multiple disabled />\n",
              "     <output id=\"result-2df14e85-8710-4a2a-bc81-c1574cdb2abb\">\n",
              "      Upload widget is only available when the cell has been executed in the\n",
              "      current browser session. Please rerun this cell to enable.\n",
              "      </output>\n",
              "      <script src=\"/nbextensions/google.colab/files.js\"></script> "
            ]
          },
          "metadata": {
            "tags": []
          }
        },
        {
          "output_type": "stream",
          "text": [
            "Saving threshold4_balanced_training_set.csv to threshold4_balanced_training_set.csv\n"
          ],
          "name": "stdout"
        }
      ]
    },
    {
      "cell_type": "code",
      "metadata": {
        "id": "ytSINX1lwhpu",
        "colab_type": "code",
        "outputId": "1cfa9fee-54b4-4838-da62-618f2c4e79ad",
        "colab": {
          "base_uri": "https://localhost:8080/",
          "height": 86
        }
      },
      "source": [
        "df = pd.read_csv('threshold4_balanced_training_set.csv', usecols=['CONTENT','sentiment'])\n",
        "df.head(10)\n",
        "df['label']=df['sentiment']\n",
        "df['label'].value_counts()"
      ],
      "execution_count": 0,
      "outputs": [
        {
          "output_type": "execute_result",
          "data": {
            "text/plain": [
              "neutral     1269\n",
              "negative    1269\n",
              "positive    1269\n",
              "Name: label, dtype: int64"
            ]
          },
          "metadata": {
            "tags": []
          },
          "execution_count": 3
        }
      ]
    },
    {
      "cell_type": "code",
      "metadata": {
        "id": "k2fsZaRjwlTW",
        "colab_type": "code",
        "outputId": "80c0d3b7-0e9f-40b2-9676-c44f438b7834",
        "colab": {
          "base_uri": "https://localhost:8080/",
          "height": 86
        }
      },
      "source": [
        "for i, item in enumerate (df['label']):\n",
        "  if item=='positive':\n",
        "    df['label'][i]=2\n",
        "  if item=='neutral':\n",
        "    df['label'][i]=1\n",
        "  if item=='negative':\n",
        "    df['label'][i]=0\n",
        "df['label'].value_counts()"
      ],
      "execution_count": 0,
      "outputs": [
        {
          "output_type": "execute_result",
          "data": {
            "text/plain": [
              "2    1269\n",
              "1    1269\n",
              "0    1269\n",
              "Name: label, dtype: int64"
            ]
          },
          "metadata": {
            "tags": []
          },
          "execution_count": 4
        }
      ]
    },
    {
      "cell_type": "code",
      "metadata": {
        "id": "V26pNmR6wo3F",
        "colab_type": "code",
        "outputId": "aa9a84f9-7bc0-4aab-c86d-d6d7ad210b55",
        "colab": {
          "resources": {
            "http://localhost:8080/nbextensions/google.colab/files.js": {
              "data": "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",
              "ok": true,
              "headers": [
                [
                  "content-type",
                  "application/javascript"
                ]
              ],
              "status": 200,
              "status_text": ""
            }
          },
          "base_uri": "https://localhost:8080/",
          "height": 74
        }
      },
      "source": [
        "from google.colab import files \n",
        "uploaded = files.upload() "
      ],
      "execution_count": 0,
      "outputs": [
        {
          "output_type": "display_data",
          "data": {
            "text/plain": [
              "<IPython.core.display.HTML object>"
            ],
            "text/html": [
              "\n",
              "     <input type=\"file\" id=\"files-cb699860-d0d4-4931-91d2-a006c9f22dfe\" name=\"files[]\" multiple disabled />\n",
              "     <output id=\"result-cb699860-d0d4-4931-91d2-a006c9f22dfe\">\n",
              "      Upload widget is only available when the cell has been executed in the\n",
              "      current browser session. Please rerun this cell to enable.\n",
              "      </output>\n",
              "      <script src=\"/nbextensions/google.colab/files.js\"></script> "
            ]
          },
          "metadata": {
            "tags": []
          }
        },
        {
          "output_type": "stream",
          "text": [
            "Saving test.csv to test.csv\n"
          ],
          "name": "stdout"
        }
      ]
    },
    {
      "cell_type": "code",
      "metadata": {
        "id": "EvvLbvEuwwI3",
        "colab_type": "code",
        "colab": {}
      },
      "source": [
        "tdf = pd.read_csv('test.csv')\n",
        "len(tdf)\n",
        "x = df['CONTENT']\n",
        "y = df['label']\n",
        "x_test=tdf['CONTENT']\n",
        "y_test=tdf['label']\n"
      ],
      "execution_count": 0,
      "outputs": []
    },
    {
      "cell_type": "code",
      "metadata": {
        "id": "tA-tdBBCwz9J",
        "colab_type": "code",
        "outputId": "278f71d0-3ba3-4e2d-d2be-012ea02e9307",
        "colab": {
          "base_uri": "https://localhost:8080/",
          "height": 1000
        }
      },
      "source": [
        "import sklearn.model_selection\n",
        "from sklearn.model_selection import train_test_split\n",
        "SEED = 2000\n",
        "x_train, x_validation, y_train, y_validation = train_test_split(x, y, test_size=0.2, random_state=SEED)\n",
        "print (x_train)"
      ],
      "execution_count": 0,
      "outputs": [
        {
          "output_type": "stream",
          "text": [
            "3390    the stock market get hit with a double whammy ...\n",
            "1297    this aerial photo take on january 2 2017 show ...\n",
            "3320    doylestown pa jan 17 2019 globe newswire proph...\n",
            "3466    new york business wire long term shareholder h...\n",
            "1987    -pron- seem that the mass and most of the fina...\n",
            "1711    investor in goodyear tire rubber co symbol gt ...\n",
            "785     dublin oct 2 2019 prnewswire the passenger sec...\n",
            "642     chicago july 8 2019 prnewswire the chicago qua...\n",
            "747     this news release constitute a designate news ...\n",
            "1792    oil price rise for four consecutive trading da...\n",
            "855     herndon va oct 07 2019 globe newswire skybitz ...\n",
            "309     new york oct 28 2019 globe newswire vornado re...\n",
            "684     tempe ariz april 24 2019 prnewswire benchmark ...\n",
            "1429    the late 13f reporting period have come and go...\n",
            "338     for immediate release chicago il october 17 20...\n",
            "758     san diego sept 12 2019 prnewswire l attitude a...\n",
            "2644    howard marks put -pron- nicely when -pron- say...\n",
            "710     mr klein currently serve as the executive vice...\n",
            "1247    semis be on fire the smh semiconductor etf hav...\n",
            "1979    the end to the u s government shutdown report ...\n",
            "2132    new york nov 04 2019 globe newswire halper sad...\n",
            "402     global medical device contract manufacturing m...\n",
            "2293    investor in scynexis inc scyx need to pay clos...\n",
            "2786    new york nov 01 2019 globe newswire acreage ho...\n",
            "2924    fall power line touch the ground on camino dia...\n",
            "1039    reuters warehouse giant prologis inc pld n say...\n",
            "3785    london dec 24 2018 globe newswire vivopower in...\n",
            "1304    investor look for stock in the building produc...\n",
            "1503    tempe ariz april 17 2019 prnewswire benchmark ...\n",
            "3031    gtt communications gtt come out with a quarter...\n",
            "                              ...                        \n",
            "1607    fourth quarter 2018 result revenue total 5 7 m...\n",
            "2913    the world s first bitcoin be mine ten year ago...\n",
            "2614    here s a roundup of top development in the bio...\n",
            "2528    omaha neb july 25 2019 prnewswire valmont util...\n",
            "2460    by john vandermosten cfa nasdaq vvus read the ...\n",
            "379     -pron- look like argo group international hold...\n",
            "124     check out the company make headline before the...\n",
            "1753    if -pron- want portfolio income dividend stock...\n",
            "2983    long term investing work well but -pron- doesn...\n",
            "919     tustin calif june 24 2019 globe newswire avid ...\n",
            "2014    dublin oct 25 2019 prnewswire the cable operat...\n",
            "3340    leiden netherlands and cambridge mass dec 10 2...\n",
            "2030    london nov 4 2019 prnewswire finastra today un...\n",
            "1537    selbyville delaware june 28 2019 globe newswir...\n",
            "3627    overland park kan business wire waddell reed f...\n",
            "706     san francisco july 16 2019 prnewswire hagens b...\n",
            "603     thomasville ga july 24 2019 flowers foods flo ...\n",
            "3599    applied materials amat close at 46 33 in the l...\n",
            "2532    armonk n y and ehningen germany oct 29 2019 pr...\n",
            "1038    a customer pass by an l brands inc victoria s ...\n",
            "183     reuters march 6 abercrombie fitch forecast ful...\n",
            "3762    san antonio aug 28 2019 globe newswire victory...\n",
            "1436    as the canadian cannabis market face an over s...\n",
            "284     ceo of altair engineering inc 30 year financia...\n",
            "2020    sacramento calif nov 4 2019 prnewswire dairy c...\n",
            "1659    los angeles reuters electricity be shut off to...\n",
            "1590    rutherford n j jan 28 2019 globe newswire canc...\n",
            "1230    check out the company make headline before the...\n",
            "840     quarterly revenue of 3 54 billion gaap and non...\n",
            "2998    want to participate in a short research study ...\n",
            "Name: CONTENT, Length: 3045, dtype: object\n"
          ],
          "name": "stdout"
        }
      ]
    },
    {
      "cell_type": "code",
      "metadata": {
        "id": "Mdvpty4pxEF0",
        "colab_type": "code",
        "colab": {}
      },
      "source": [
        "from tqdm import tqdm\n",
        "tqdm.pandas(desc=\"progress-bar\")\n",
        "import gensim\n",
        "from gensim.models.word2vec import Word2Vec\n",
        "from gensim.models.doc2vec import TaggedDocument\n",
        "import multiprocessing\n",
        "from sklearn import utils"
      ],
      "execution_count": 0,
      "outputs": []
    },
    {
      "cell_type": "code",
      "metadata": {
        "id": "dXS9fCdZxJ1g",
        "colab_type": "code",
        "colab": {}
      },
      "source": [
        "def labelize_tweets_ug(tweets,label):\n",
        "    result = []\n",
        "    prefix = label\n",
        "    for i, t in zip(tweets.index, tweets):\n",
        "        result.append(TaggedDocument(t.split(), [prefix + '_%s' % i]))\n",
        "    return result"
      ],
      "execution_count": 0,
      "outputs": []
    },
    {
      "cell_type": "code",
      "metadata": {
        "id": "wRz3tfNGxO1p",
        "colab_type": "code",
        "colab": {}
      },
      "source": [
        "all_x = pd.concat([x_train,x_validation,x_test])\n",
        "all_x_w2v = labelize_tweets_ug(all_x, 'all')"
      ],
      "execution_count": 0,
      "outputs": []
    },
    {
      "cell_type": "code",
      "metadata": {
        "id": "YrxqgZRExzHZ",
        "colab_type": "code",
        "outputId": "53f1a2f0-488a-4edd-dde4-2d53febf408e",
        "colab": {
          "base_uri": "https://localhost:8080/",
          "height": 34
        }
      },
      "source": [
        "cores = multiprocessing.cpu_count()\n",
        "model_ug_cbow = Word2Vec(sg=0, size=100, negative=5, window=2, min_count=2, workers=cores, alpha=0.065, min_alpha=0.065)\n",
        "model_ug_cbow.build_vocab([x.words for x in tqdm(all_x_w2v)])"
      ],
      "execution_count": 0,
      "outputs": [
        {
          "output_type": "stream",
          "text": [
            "100%|██████████| 4177/4177 [00:00<00:00, 286624.04it/s]\n"
          ],
          "name": "stderr"
        }
      ]
    },
    {
      "cell_type": "code",
      "metadata": {
        "id": "Aselc0Fkx9ft",
        "colab_type": "code",
        "outputId": "2cca6ea3-5648-4f8f-981d-3e49a1d5cf3c",
        "colab": {
          "base_uri": "https://localhost:8080/",
          "height": 571
        }
      },
      "source": [
        "%%time\n",
        "for epoch in range(30):\n",
        "    model_ug_cbow.train(utils.shuffle([x.words for x in tqdm(all_x_w2v)]), total_examples=len(all_x_w2v), epochs=1)\n",
        "    model_ug_cbow.alpha -= 0.002\n",
        "    model_ug_cbow.min_alpha = model_ug_cbow.alpha"
      ],
      "execution_count": 0,
      "outputs": [
        {
          "output_type": "stream",
          "text": [
            "100%|██████████| 4177/4177 [00:00<00:00, 671326.51it/s]\n",
            "100%|██████████| 4177/4177 [00:00<00:00, 611824.96it/s]\n",
            "100%|██████████| 4177/4177 [00:00<00:00, 626886.89it/s]\n",
            "100%|██████████| 4177/4177 [00:00<00:00, 1409688.43it/s]\n",
            "100%|██████████| 4177/4177 [00:00<00:00, 592238.79it/s]\n",
            "100%|██████████| 4177/4177 [00:00<00:00, 583461.81it/s]\n",
            "100%|██████████| 4177/4177 [00:00<00:00, 642426.31it/s]\n",
            "100%|██████████| 4177/4177 [00:00<00:00, 594328.24it/s]\n",
            "100%|██████████| 4177/4177 [00:00<00:00, 1474466.24it/s]\n",
            "100%|██████████| 4177/4177 [00:00<00:00, 675337.59it/s]\n",
            "100%|██████████| 4177/4177 [00:00<00:00, 618259.09it/s]\n",
            "100%|██████████| 4177/4177 [00:00<00:00, 1232126.58it/s]\n",
            "100%|██████████| 4177/4177 [00:00<00:00, 1709730.44it/s]\n",
            "100%|██████████| 4177/4177 [00:00<00:00, 645907.97it/s]\n",
            "100%|██████████| 4177/4177 [00:00<00:00, 1697965.48it/s]\n",
            "100%|██████████| 4177/4177 [00:00<00:00, 1219179.39it/s]\n",
            "100%|██████████| 4177/4177 [00:00<00:00, 1264588.41it/s]\n",
            "100%|██████████| 4177/4177 [00:00<00:00, 1835282.61it/s]\n",
            "100%|██████████| 4177/4177 [00:00<00:00, 1375381.36it/s]\n",
            "100%|██████████| 4177/4177 [00:00<00:00, 789029.36it/s]\n",
            "100%|██████████| 4177/4177 [00:00<00:00, 1132562.40it/s]\n",
            "100%|██████████| 4177/4177 [00:00<00:00, 669300.42it/s]\n",
            "100%|██████████| 4177/4177 [00:00<00:00, 1110030.27it/s]\n",
            "100%|██████████| 4177/4177 [00:00<00:00, 562409.16it/s]\n",
            "100%|██████████| 4177/4177 [00:00<00:00, 1746198.33it/s]\n",
            "100%|██████████| 4177/4177 [00:00<00:00, 658730.93it/s]\n",
            "100%|██████████| 4177/4177 [00:00<00:00, 467226.92it/s]\n",
            "100%|██████████| 4177/4177 [00:00<00:00, 655526.75it/s]\n",
            "100%|██████████| 4177/4177 [00:00<00:00, 472086.65it/s]\n",
            "100%|██████████| 4177/4177 [00:00<00:00, 1184317.43it/s]\n"
          ],
          "name": "stderr"
        },
        {
          "output_type": "stream",
          "text": [
            "CPU times: user 4min 9s, sys: 1.93 s, total: 4min 11s\n",
            "Wall time: 1min 11s\n"
          ],
          "name": "stdout"
        }
      ]
    },
    {
      "cell_type": "code",
      "metadata": {
        "id": "pjgemoGnyP2p",
        "colab_type": "code",
        "outputId": "d6ea73e4-8e94-4d2a-ed90-1339320a48c2",
        "colab": {
          "base_uri": "https://localhost:8080/",
          "height": 34
        }
      },
      "source": [
        "model_ug_sg = Word2Vec(sg=1, size=100, negative=5, window=2, min_count=2, workers=cores, alpha=0.065, min_alpha=0.065)\n",
        "model_ug_sg.build_vocab([x.words for x in tqdm(all_x_w2v)])"
      ],
      "execution_count": 0,
      "outputs": [
        {
          "output_type": "stream",
          "text": [
            "100%|██████████| 4177/4177 [00:00<00:00, 1337068.44it/s]\n"
          ],
          "name": "stderr"
        }
      ]
    },
    {
      "cell_type": "code",
      "metadata": {
        "id": "tth8c0iWyVlQ",
        "colab_type": "code",
        "outputId": "f4792ba3-c571-4cde-89d4-0971da019c9f",
        "colab": {
          "base_uri": "https://localhost:8080/",
          "height": 571
        }
      },
      "source": [
        "%%time\n",
        "for epoch in range(30):\n",
        "    model_ug_sg.train(utils.shuffle([x.words for x in tqdm(all_x_w2v)]), total_examples=len(all_x_w2v), epochs=1)\n",
        "    model_ug_sg.alpha -= 0.002\n",
        "    model_ug_sg.min_alpha = model_ug_sg.alpha"
      ],
      "execution_count": 0,
      "outputs": [
        {
          "output_type": "stream",
          "text": [
            "100%|██████████| 4177/4177 [00:00<00:00, 862992.36it/s]\n",
            "100%|██████████| 4177/4177 [00:00<00:00, 1394096.27it/s]\n",
            "100%|██████████| 4177/4177 [00:00<00:00, 1040356.76it/s]\n",
            "100%|██████████| 4177/4177 [00:00<00:00, 497490.00it/s]\n",
            "100%|██████████| 4177/4177 [00:00<00:00, 530881.12it/s]\n",
            "100%|██████████| 4177/4177 [00:00<00:00, 626886.89it/s]\n",
            "100%|██████████| 4177/4177 [00:00<00:00, 1848254.86it/s]\n",
            "100%|██████████| 4177/4177 [00:00<00:00, 1052924.32it/s]\n",
            "100%|██████████| 4177/4177 [00:00<00:00, 613732.50it/s]\n",
            "100%|██████████| 4177/4177 [00:00<00:00, 808846.16it/s]\n",
            "100%|██████████| 4177/4177 [00:00<00:00, 481837.40it/s]\n",
            "100%|██████████| 4177/4177 [00:00<00:00, 619176.81it/s]\n",
            "100%|██████████| 4177/4177 [00:00<00:00, 1334522.23it/s]\n",
            "100%|██████████| 4177/4177 [00:00<00:00, 998325.14it/s]\n",
            "100%|██████████| 4177/4177 [00:00<00:00, 599022.39it/s]\n",
            "100%|██████████| 4177/4177 [00:00<00:00, 1691735.01it/s]\n",
            "100%|██████████| 4177/4177 [00:00<00:00, 555754.59it/s]\n",
            "100%|██████████| 4177/4177 [00:00<00:00, 1075746.52it/s]\n",
            "100%|██████████| 4177/4177 [00:00<00:00, 513846.83it/s]\n",
            "100%|██████████| 4177/4177 [00:00<00:00, 571490.34it/s]\n",
            "100%|██████████| 4177/4177 [00:00<00:00, 1612184.39it/s]\n",
            "100%|██████████| 4177/4177 [00:00<00:00, 594267.76it/s]\n",
            "100%|██████████| 4177/4177 [00:00<00:00, 565294.52it/s]\n",
            "100%|██████████| 4177/4177 [00:00<00:00, 590561.85it/s]\n",
            "100%|██████████| 4177/4177 [00:00<00:00, 782474.67it/s]\n",
            "100%|██████████| 4177/4177 [00:00<00:00, 869632.08it/s]\n",
            "100%|██████████| 4177/4177 [00:00<00:00, 533256.46it/s]\n",
            "100%|██████████| 4177/4177 [00:00<00:00, 561040.38it/s]\n",
            "100%|██████████| 4177/4177 [00:00<00:00, 1056416.29it/s]\n",
            "100%|██████████| 4177/4177 [00:00<00:00, 597225.42it/s]\n"
          ],
          "name": "stderr"
        },
        {
          "output_type": "stream",
          "text": [
            "CPU times: user 9min 1s, sys: 1.37 s, total: 9min 2s\n",
            "Wall time: 2min 20s\n"
          ],
          "name": "stdout"
        }
      ]
    },
    {
      "cell_type": "code",
      "metadata": {
        "id": "3A8vd8hkygf6",
        "colab_type": "code",
        "outputId": "2fc9e751-7c37-4936-bb0d-8b0f3c51f1b0",
        "colab": {
          "base_uri": "https://localhost:8080/",
          "height": 71
        }
      },
      "source": [
        "model_ug_cbow.save('w2v_model_ug_cbow.word2vec')\n",
        "model_ug_sg.save('w2v_model_ug_sg.word2vec')"
      ],
      "execution_count": 0,
      "outputs": [
        {
          "output_type": "stream",
          "text": [
            "/usr/local/lib/python2.7/dist-packages/smart_open/smart_open_lib.py:398: UserWarning: This function is deprecated, use smart_open.open instead. See the migration notes for details: https://github.com/RaRe-Technologies/smart_open/blob/master/README.rst#migrating-to-the-new-open-function\n",
            "  'See the migration notes for details: %s' % _MIGRATION_NOTES_URL\n"
          ],
          "name": "stderr"
        }
      ]
    },
    {
      "cell_type": "code",
      "metadata": {
        "id": "ARvQQXTQyx6-",
        "colab_type": "code",
        "colab": {}
      },
      "source": [
        "from gensim.models import KeyedVectors\n",
        "model_ug_cbow = KeyedVectors.load('w2v_model_ug_cbow.word2vec')\n",
        "model_ug_sg = KeyedVectors.load('w2v_model_ug_sg.word2vec')"
      ],
      "execution_count": 0,
      "outputs": []
    },
    {
      "cell_type": "code",
      "metadata": {
        "id": "CbYfppZmy0AA",
        "colab_type": "code",
        "outputId": "5c438739-839a-424f-8bbe-68117723bbb2",
        "colab": {
          "base_uri": "https://localhost:8080/",
          "height": 34
        }
      },
      "source": [
        "len(model_ug_cbow.wv.vocab.keys())"
      ],
      "execution_count": 0,
      "outputs": [
        {
          "output_type": "execute_result",
          "data": {
            "text/plain": [
              "33422"
            ]
          },
          "metadata": {
            "tags": []
          },
          "execution_count": 17
        }
      ]
    },
    {
      "cell_type": "code",
      "metadata": {
        "id": "KY2zG8DazAXY",
        "colab_type": "code",
        "outputId": "d1ec1169-1079-415d-c257-9b2a8d4c6134",
        "colab": {
          "base_uri": "https://localhost:8080/",
          "height": 34
        }
      },
      "source": [
        "embeddings_index = {}\n",
        "for w in model_ug_cbow.wv.vocab.keys():\n",
        "    embeddings_index[w] = np.append(model_ug_cbow.wv[w],model_ug_sg.wv[w])\n",
        "print('Found %s word vectors.' % len(embeddings_index))"
      ],
      "execution_count": 0,
      "outputs": [
        {
          "output_type": "stream",
          "text": [
            "Found 33422 word vectors.\n"
          ],
          "name": "stdout"
        }
      ]
    },
    {
      "cell_type": "code",
      "metadata": {
        "id": "tPrbFxIMzCD9",
        "colab_type": "code",
        "outputId": "aef235af-52b3-409f-9d3c-a161aceb2412",
        "colab": {
          "base_uri": "https://localhost:8080/",
          "height": 81
        }
      },
      "source": [
        "from keras.preprocessing.text import Tokenizer\n",
        "from keras.preprocessing.sequence import pad_sequences\n",
        "\n",
        "tokenizer = Tokenizer(num_words=100000)\n",
        "tokenizer.fit_on_texts(x_train)\n",
        "sequences = tokenizer.texts_to_sequences(x_train)"
      ],
      "execution_count": 0,
      "outputs": [
        {
          "output_type": "stream",
          "text": [
            "Using TensorFlow backend.\n"
          ],
          "name": "stderr"
        },
        {
          "output_type": "display_data",
          "data": {
            "text/plain": [
              "<IPython.core.display.HTML object>"
            ],
            "text/html": [
              "<p style=\"color: red;\">\n",
              "The default version of TensorFlow in Colab will soon switch to TensorFlow 2.x.<br>\n",
              "We recommend you <a href=\"https://www.tensorflow.org/guide/migrate\" target=\"_blank\">upgrade</a> now \n",
              "or ensure your notebook will continue to use TensorFlow 1.x via the <code>%tensorflow_version 1.x</code> magic:\n",
              "<a href=\"https://colab.research.google.com/notebooks/tensorflow_version.ipynb\" target=\"_blank\">more info</a>.</p>\n"
            ]
          },
          "metadata": {
            "tags": []
          }
        }
      ]
    },
    {
      "cell_type": "code",
      "metadata": {
        "id": "rno4m-VxzHAc",
        "colab_type": "code",
        "outputId": "5d763d34-6e57-4fec-e6d3-2db030631229",
        "colab": {
          "base_uri": "https://localhost:8080/",
          "height": 34
        }
      },
      "source": [
        "len(tokenizer.word_index)"
      ],
      "execution_count": 0,
      "outputs": [
        {
          "output_type": "execute_result",
          "data": {
            "text/plain": [
              "42225"
            ]
          },
          "metadata": {
            "tags": []
          },
          "execution_count": 20
        }
      ]
    },
    {
      "cell_type": "code",
      "metadata": {
        "id": "PSrlonYCzLSG",
        "colab_type": "code",
        "outputId": "1e4a5d4c-804a-48d8-871f-4f2d1046d22a",
        "colab": {
          "base_uri": "https://localhost:8080/",
          "height": 123
        }
      },
      "source": [
        "for x in x_train[:5]:\n",
        "    print x"
      ],
      "execution_count": 0,
      "outputs": [
        {
          "output_type": "stream",
          "text": [
            "the stock market get hit with a double whammy on friday come from a glut of new public offering and a threat from the white house to limit u s investment in china cnbc s jim cramer say the mad money host say busted deal such as peloton smiledirectclub lyft and uber be happen too often and have contribute to a number of down day on wall street in the midst of an ongoing trade war between the world s large economy the public also learn during the day that trump administration official be look at way to deter u s company from invest in chinese company a move that cramer support turn out -pron- s not as sweeping or as negative as the market seem to believe -pron- say the administration doesn t want chinese listing that lack the same kind of transparency as american company and -pron- would prefer investor not to buy the share of company with opaque financial the dow jones industrial average lose more than 70 point or 0 26 while the s p 500 pull back 0 53 and the nasdaq composite drop 1 13 -pron- know -pron- s be rough but last week this market be really overbought still and when -pron- re overbought -pron- tend to get hit with sell off especially when -pron- re be flood with shoddy ipo merchandise cramer say -pron- think -pron- need some more downside before -pron- m really ready to get more positive cramer also give -pron- game plan for next week monday thor industries thor industries report earning before the market open shares of the recreational vehicle manufacturer have struggle as of late down nearly 70 from -pron- january 2018 all time high on the back of a series of earning miss cramer note that labor and raw cost on top of dim demand have contribute to woe in the camping cohort if there s ever go to be an upside surprise here -pron- s go to be this quarter because interest rate be finally go down for now though -pron- think -pron- s way too risky -pron- say thor need to deliver at least one quarter please of good number before -pron- have -pron- permission to circle back tuesday mccormick stitch fix mccormick present quarterly number before the open bell analyst be look for a profit of 1 29 per share on 1 3 billion revenue in the cramer fave spice maker the stock drop more than 2 in friday s session if -pron- keep fall on monday -pron- re go to get a good opportunity to buy this thing -pron- say mccormick be one of the few company in the supermarket that s get real growth stitch fix have an earning call after the close bell wall street expect 4 cent earning per share and 432 million of sale which would represent nearly 37 year over year growth share be down more than 42 since late june expensive valuation never seem to matter to the stock until june cramer say that s what happen though when -pron- go out of style on the wall street fashion show watch how this one behave after the quarter wednesday lennar bed bath beyond lennar deliver a quarterly report in the morning housing have be a strong spot in the economy and share of the homebuilder have be steadily grow close friday s session shy of 40 year to date housing s respond to low interest rate cramer say so if this stock get hit on the quarter call -pron- a buyer bed bath beyond s earning report come after the market close the company have be shake up by activist investor look to stabilize sale and cut cost at the home good retailer the stock be at 9 91 more than 2 high than -pron- august low bed bath finally look like -pron- s kind of bottom cramer say let s hear what -pron- have to say before -pron- try to pick at this one though thursday pepsico constellation brands costco pepsico report earning in the morning the stock be up more than 11 from early august -pron- think pepsico be exactly what work in this dicey environment cramer say -pron- m look for 5 organic growth constellation brands have a quarterly call before the bell constellation may help -pron- understand -pron- cannabis strategy not to mention please have something to say about spiked seltzer which be the hot part of the alcohol market -pron- say costco deliver earning after trading end the stock have fall about 17 in three week -pron- expect one more leg down before the stock s safe to buy the host say friday september job report employment s be strong but now everyone -pron- know be act like the good time stop roll cramer say -pron- don t think that s the case -pron- expect another good number which may make -pron- difficult for the fed to give -pron- another rate cut watch cramer s game plan\n",
            "this aerial photo take on january 2 2017 show a chinese navy formation include the aircraft carrier liaoning c during military drill in the south china sea china make use of nine satellite in orbit around the earth build by boeing and maxar technologies own ssl and finance through investment firm carlyle group to boost chinese government capability the wall street journal report on tuesday the report find that bandwidth on the satellite be use to connect chinese soldier at south china sea outpost to boost propaganda broadcast and to help state police fight protester in the final case china s police force use satellite bandwidth to quell protest in xinjiang an area where the government have be sharply criticize for the forced relocation of of uighurs a muslim ethnic minority in the province china be say to have relocate as many as one million uighurs into internment camp the united sates have trade law that essentially prevent u s company from sell satellite directly to china or chinese company however those trade law do not regulate how the bandwidth on those satellite be use once -pron- begin operation a loophole china have reportedly utilize to rent rather than buy the service of american build satellite the state department say the u s strongly urge company to implement stringent safeguard to ensure that -pron- commercial activity do not contribute to china s human right abuse in a statement to the wsj the key to circumvent those trade law be a hong kong base company call asia satellite telecommunications the report say which be jointly own by carlyle group and chinese state control citic group the report explain how asiasat be then able to buy satellite from boeing and ssl while carlyle submit compliance report to the u s government in turn citic group then sell some service of the asiasat satellite to chinese government operator the us of those service range from propaganda telecommunication to communicate with chinese soldier at remote outpost boeing tell cnbc in a statement that the company follow the lead of the u s government with respect to the use of export control item citic have say the satellite have be use to help chinese police communicate while fight protest in both tibet and xinjiang additionally china s intelligence agency the ministry of state security be reportedly list among citic s user for emergency response asiasat tell the wsj that -pron- do not know how chinese authority have use the satellite capability in response to protest and that the company be unable to see what be transmit boeing be build a tenth satellite that would help the chinese version of gps satellite a navigation system that could have both civilian and military use boeing tell the wsj that this late satellite s development be on hold read the full wall street journal report here\n",
            "doylestown pa jan 17 2019 globe newswire prophase labs inc nasdaq prph www prophaselab com a vertically integrated manufacturer marketer and distributor of a diversified range of over the counter dietary supplement prophase or company announce today that monica brady have be promote to the position of chief financial officer ms brady have serve as the companys chief accounting officer since september 2017 and previously serve as the companys director of finance since 2009 -pron- be pleased to announce monicas well deserved promotion to chief financial officer say ted karkus chairman and chief executive officer of prophase monica have be an invaluable member of -pron- finance team and have demonstrate a strong aptitude for operational leadership during -pron- time as chief accounting officer -pron- in depth knowledge of -pron- business combine with -pron- expertise in financial reporting and analysis risk management and operational control make -pron- uniquely qualified to serve as -pron- chief financial officer -pron- be honor to accept the position of chief financial officer say ms brady -pron- look forward to work even more closely with management and -pron- board of director to improve the long term financial performance of the company and implement business strategy that add value for all -pron- stakeholder about prophase labs prophase be a vertically integrated manufacturer marketer and distributor of a diversified range of over the counter otc dietary supplement -pron- be engage in the research and development of additional otc dietary supplement include legendz xl which be market under -pron- tk supplements brand the company be also develop prophase digital media as a service that leverage and apply technology to the direct to consumer marketing of consumer product with -pron- enhanced liquidity follow the sale of -pron- cold eeze brand -pron- be also actively explore additional opportunity outside of the consumer product industry for more information visit -pron- at www prophaselab com forward look statement all statement contain in this press release other than statement of historical fact be forward look statement these statement speak only as of the date of this press release and be base on -pron- current plan and expectation and involve risk and uncertainty that could because actual future event or result to be different from those describe in or imply by such forward look statement include risk and uncertainty relate to the timing and payment of the special cash dividend further information about these matter can be find in -pron- securities and exchange commission filing except as require by applicable law or regulation -pron- do not undertake any obligation to update -pron- forward look statement to reflect future event or circumstance investor contact ted karkus chairman and ceo prophase labs inc 267 880 1111\n",
            "new york business wire long term shareholder have be disappoint by the absolute and relative trading performance of enscorowan both before and since consummation of the ensco rowan merger propose that enscorowan launch a priority guarantee bond offering to immediately fund a special dividend of 2 5 billion believe a near term special dividend would precipitate a re rating of enscorowans stock help to crystallize the companys underappreciat fundamental value while allow -pron- to retain extensive financial flexibility to harvest the benefit of the emerge offshore drilling recovery and managements post merger value creation strategy enscorowan will also be able to utilize -pron- significant remaining financial flexibility to effect liability management luminus management llc together with certain of -pron- affiliate luminus or -pron- the investment advisor to fund and account that beneficially own 4 5 of the outstanding ordinary share of enscorowan plc enscorowan or the company esv send a letter to enscorowans board of directors the board express -pron- urgent recommendation for the company this press release feature multimedia view the full release here https www businesswire com news home 20190612005528 en the key point from luminus letter be as follow the full letter and accompany presentation be available at www enscovaluecreation com and an unformatted version of the letter can be read below re balance sheet optimization and shareholder value creation members of the board luminus management llc together with certain of -pron- affiliate luminus or -pron- be the investment advisor to fund and account that beneficially own 4 5 of the outstanding ordinary share of enscorowan plc enscorowan or the company esv luminus have be actively involve in the offshore drilling sector and -pron- have continuously own at least one of enscorowans predecessor company since 2013 -pron- be an investment management firm found in 2002 focus on the core sector of power and energy energy infrastructure and related industrial -pron- be long term value orient investor and -pron- strategy employ a rigorous fundamental bottom up sector focus approach as one of the companys large shareholder luminus have be extremely disappointed by the absolute and relative trading performance of enscorowan both before and since consummation of the ensco rowan merger -pron- propose that enscorowan launch a priority guarantee bond offering to immediately fund a special dividend of 2 5 billion to shareholder -pron- believe that a dividend in excess of the current 1 6 billion market capitalization will demonstrate that the board and management be willing to utilize a portion of the companys significant value and financial flexibility to deliver value for shareholder -pron- believe this commitment will highlight value and extensive balance sheet flexibility and precipitate a re rating of enscorowans stock in fact -pron- estimate that after pay this special dividend the company will retain ample financial flexibility to harvest the benefit of the emerge market recovery and managements post merger value creation strategy enscorowan can also utilize -pron- significant remaining financial flexibility to execute liability management a key component of the merger rationale be to create value for shareholder through both synergy and balance sheet flexibility the current market disregard of the future prospect of enscorowan have create an enormous opportunity to reward shareholder with the synergy and extensive balance sheet flexibility gain through the merger in the page that follow -pron- will further detail -pron- analysis recommendation and rationale executive summary enscorowan have meaningfully underperform the market since approval of the ensco rowan merger from february 20 2019 through june 7 2019 enscorowans stock price decline by approximately 56 underperforming peer and the broad oilfield service market by approximately 26 and 32 respectively investors seem to refuse to give enscorowan credit for many of -pron- positive attribute and factor include in recent month -pron- have see the consummation of the merger inflection in floater and jackup dayrate the advancement of the aro joint venture and increase synergy projection yet the stock price have dramatically underperform simply put in -pron- view the investment community have fail to understand enscorowans true value and see no path for the market to reassess the stock valuation story continue where do this leave -pron- -pron- believe that the company must now consider a broad range of option than company management have previously communicate the companys large remain unutilized asset that can be unlocked and share with equity be -pron- extensive balance sheet flexibility enscorowanand particularly -pron- shareholdershave pay for this flexibility when other driller utilize -pron- flexibility earlier in the cycle to increase leverage and add layer of debt enscorowan sell equity and convertible bond in fact enscorowan be the only tier one driller that have issue equity and equity link debt since 2011 outside of a corporate transaction or bankruptcy in total enscorowan have issue 1 5 billion in equity and convertible bond and 1 4 billion in equity consideration in the rowan merger additionally enscorowan prioritize creditor follow the rowan acquisition by provide corporate guarantee on assume debt rather than allow a low priority layer of debt to exist within -pron- capital structure in -pron- opinion the low priority would have weigh on bond price and open more lucrative opportunity for equity accretive liability management these action while consistent with enscorowans long term aspiration to return to investment grade have prioritize creditor at a cost to equity give -pron- view that the benefit of investment grade status be at a minimum five year away -pron- believe these action to improve the companys credit rating to enhance shareholder value on a present value basis actually hurt shareholder furthermore -pron- believe that a special dividend do not stop enscorowan from become investment grade -pron- only delay attain that status by a few year -pron- strongly believe now be the time to further consider the interest of shareholder in corporate priority do shareholder have a seat at the table management have make -pron- clear to debt and equity holder that liability management will be a near term component of -pron- capital allocation strategy investor be expect enscorowan to announce a liability management bond tender in the near term assume enscorowan fund this tender with new bond those bond be likely to contain covenant and restriction that will constrain the company for many year to come in light of the disproportionate underperformance of the equity versus the bond the relative cost of capital between equity and senior unsecured debt have shift dramatically follow this significant repricing of enscorowans security -pron- believe that the company must reconsider the broad available range of option and shift the capital structure away from extremely high cost equity and towards low cost debt have become essential recommendation enscorowans stock value have decouple from the fundamental strength of the business and the stock be trade at a significant discount to -pron- fundamental value as a result -pron- be -pron- opinion that the board should raise 2 5 billion of priority guarantee debt and safeguard the companys ability to issue additional structurally senior debt safeguard future financial flexibility on both a junior and senior priority guarantee basis fund a 2 5 billion special dividend better incentivize management to continue to pursue this value creation plan and at the very least re value employee equity and option grant enscorowans market capitalization currently stand at 1 6 billion -pron- believe that announce a special dividend that be 56 large than todays market capitalization will crystallize many of the merger benefit for enscorowans shareholder -pron- proposal be the good way to maximize shareholder value in a fiscally responsible way and ensure that shareholder still benefit from the ultimate industry recovery the cost of pay the dividend be limit ultimately the companys long term target of achieve investment grade status would be defer but -pron- ability to achieve all the rest of -pron- objective would be retain enscorowans stock be trade like an out of the money call option on asset value the ensco rowan merger be approve on february 21 2019 from that time through june 7 2019 enscorowans stock price have decline by approximately 56 underperforming peer and the broad oilfield service market by approximately 26 and 32 respectively in -pron- opinion the market have clearly show -pron- will treat enscorowans stock like an option rather than as equity of a viable long term company this be clearly demonstrate on friday may 17 2019 after the company announce an unexpected 180 million arbitration award from samsung heavy industries despite the disclosure of a highly probable cash inflow equal to almost 10 of the companys market capitalization the equity fail to respond an announcement of that magnitude in a traditional equity would have see a more commensurate improvement of -pron- stock price in -pron- opinion the only way this award could have be broadly ignore by the market be if investor believe the money would not accrue to equitys benefit and that the esv equity option would not benefit from the award enscorowans balance sheet be misunderstood -pron- believe that investor mistakenly view enscorowans balance sheet as a source of weakness barclays 3 5 2019 esv rdc need the floater market to recover quickly however as debt maturity from now until 2024 year end be daunting esv rdc generate a combined fcf loss of 800 mm last year and will likely be fcf negative again in 2019 leave the company with just 3 4 year to generate over 1 2bn of fcf to meet -pron- obligation by 2024 barclays 5 3 2019 in -pron- view there be now a clear distinction between do rig and esv ne the former have good balance sheet give -pron- a long runway for the recovery to take hold esv and ne on the other hand have less time before thing get good with loom debt maturity in 24 26 btig 5 30 2019 -pron- believe esv steeper discount on an imply value per rig be a function of balance sheet concern however enscorowan have extensive flexibility and optionality around -pron- balance sheet that be likely not be appreciate by the market and be not available to many of the companys peer enscorowan have maintain this flexibility through the cycle by conservatively capitalize with equity by issue equity and convertible bond total 1 5 billion since 2011 and by issue 1 4 billion in equity consideration in the rowan merger incremental debt capacity enscorowans bond indenture provide the company with very significant flexibility to raise additional debt fund operation manage liability and pay dividend revolver aside all of enscorowans outstanding bond have light investment grade style covenant package which include no limitation on dividend and allow for significant amount of structurally senior debt to be issue therefore for the purpose of this analysis -pron- conservatively assume that enscorowan will terminate -pron- revolver in -pron- place -pron- assume that enscorowan will utilize -pron- significant capacity for first money out paper similar to transocean ltd s priority guarantee and noble corps senior guarantee bond hereafter refer to as priority guarantee debt enscorowan have not tap into any of these various capacity or utilize these lever unlike the vast majority of -pron- peer transocean ltd rig noble corporation plc ne pacific drilling s a pacd seadrill ltd sdrl odfjell drilling odl no maersk drilling drlco co borr drilling ltd ob bdrill vantage drilling international vtg and shelf drilling ltd shlf ol have all either avail -pron- of secured debt market or layer -pron- unsecured debt with guarantee bond the capital market be give the company very little or no credit for -pron- flexibility enscorowan should acknowledge that -pron- strategy of maintain excess flexibility pursue at the meaningful cost of equity dilution be not be value and this path should be comprehensively reconsider senior debt enscorowan high quality asset base can backstop over 4 4 billion in incremental priority guarantee debt enscorowan own three primary type of asset drillship semisubmersible and jackup enscorowan also own 50 of the aro drilling joint venture with saudi aramco -pron- have estimate enscorowans debt capacity use the follow metric drillships pacific drilling raise just over 1 billion in secured debt in september 2018 against 7 drillship at an implied debt rig of 150 million and an average cash cost at issuance just over 9 these bond currently trade near par imply that these term be currently on market also noteworthy be the fact that pacd have very limit contract coverage on -pron- asset at the time of issuance highlight that this debt capacity be base on asset value and not cash flow enscorowans drillship cost on average 687 million per rig to construct per ihs and recent transaction imply drillship value in the 300 350 million range enscorowan have 16 drillship of good quality on average than pacific drilling in -pron- opinion or 14 net of two already encumber newbuild in the shipyardfor an implied debt capacity of 2 1 billion semisubmersibles enscorowan have two 6th generation semisubmersible rig seven 8500 series rig deliver in 2008 and later three be work four be cold stack and three old semisubmersible enscorowans 6th generation rig cost on average 688 million per rig to construct and the three active 8500 series rig cost 492 million per rig to construct per ihs a conservative approach would be to assume 100 million of debt on each of the 6th generation rig and 50 million on each of the three work 8500 series rig this would represent an additional 350 million in debt capacity jackups borr drilling in march 2019 obtain a 160 million bank facility secure by mortgage over four jackup rig and a separate 120 million bank facility secure by mortgage over two jackup rig these transaction imply 40 60 million in debt per modern jackup which be likely a conservative debt capacity benchmark as the bank market be typically more conservative with respect to loan to value than bond market enscorowans 36 jackup deliver in 2000 or later include 15 harsh environment capable rig cost on average 211 million per rig to construct per ihs and modern jackup transaction be now over 85 million per rig have trough at around 65 million assume no debt capacity exist against the companys old jackup and 45 million per rig of debt capacity against the new jackup this fleet represent an additional 1 62 billion in debt capacity aro drilling joint venture enscorowan be a 50 50 partner with saudi aramco the world large jackup customer which also have an a a1 credit rating aro currently own a fleet of seven jackup rig five of which be deliver in 2004 or later lease another nine jackup rig from enscorowan include in the 36 jackup mention above and have plan to order up to 20 newbuild jackup rig over the next 10 year with 8 year contractual commitment at 6 year ebitda payback rate additionally the entity currently have over 200 million in contract backlog from saudi aramco -pron- will not attempt to value the joint venture here but enscorowan own a 455 million shareholder loan against aro drilling and saudi aramco be also aro only customer -pron- assume this loan could be monetize for an additional 375 million all these component would bring enscorowans total debt capacity to 4 45 billion on current asset back financing comparable the company could raise this entire amount incrementally to current outstanding debt as this debt could be issue closer to the asset with priority guarantee status prim exist bond use precedent transaction at pacific drilling and borr drilling and use the great than 300 basis point spread between noble corps senior guarantee and senior unsecured bond -pron- triangulate to a 9 cost of debt discount debt repurchases -pron- analysis conservatively assume that enscorowan do not repurchase debt at a discount and that full interest expense and principal balance be pay up to maturity of the current outstanding debt base on current trading price -pron- believe enscorowan could save over 1 0 billion in principal payment if near and medium debt be repurchase today include long term debt bring this number to almost 2 0 billion note this be base on an unaffected number before management proceed with any of the shareholder value creation measure -pron- have outline liability management to extend maturity -pron- analysis do not give credit for enscorowans ability to utilize junior priority guarantee debt debt that be senior to currently exist unsecured bond but junior to the pro forma priority guarantee debt enscorowan have 3 4 billion of debt due in 2024 and 2025 that -pron- assume will be repay in cash in practice enscorowan should be able to tender for bond at a discount with the consideration consist of longer date junior priority guarantee debt instead of cash creditors accept this tender would immediately become senior to all currently outstanding unsecured debt this tool enable the company to further extend maturity without consume cash asset sales -pron- analysis do not assume any benefit from asset sale although the analysis assign debt capacity of 150 million per drillship and 45 million per premium jackup recent comparable asset sale have place drillship value at or above 300 million and premium jackup value in the 85 million or great range thus any asset sale would further buttress the companys balance sheet in excess of the aforementioned debt capacity covenants on current outstanding debt provide significant flexibility with respect to asset sale and use of proceed -pron- believe enscorowans balance sheet can easily support fund a 2 5 billion special dividend leave -pron- extensively capitalize to execute on -pron- business strategy and benefit from the industry recovery assumptions 1 5 billion in pro forma cash and short term investment as of march 31 2019 no discounted debt repurchase no liability management to extend maturity no asset sale incremental fund debt at 9 with almost no tax shield at a priority guarantee level debt use to fund a 2 5 billion special dividend and for general corporate purpose as management execute on -pron- strategy wall street bear case a ebitda i bloomberg consensus ebitda through 2021 ii 2022 ebitda a linear interpolation of 2021 and 2023 estimate iii for 2023 and beyond constant dayrate estimate that be at or below the bottom quartile of distribute analyst estimatesthese dayrate estimate align with sell rat analyst projection b capital expenditures bloomberg consensus through 2021 hold constant thereafter in connection with the ensco rowan merger rowan financial advisor and management teammany of whom constitute the current enscorowan management teamdevelop financial forecast for the pro forma business through 2024 use managements own publicly disclose number -pron- believe enscorowan remain extensively capitalize and retain significant equity value after a 2 5 billion special dividend cash flow q2 19 q3 19 q4 19 2019 2020 2021 2022 2023 2024 2025 attributable ebitda 83 83 83 293 598 1 209 1 850 2 419 2 692 2 692 less transaction costs 34 34 34 102 37 15 less net cash interest on exist debt 110 108 107 399 426 421 406 384 319 232 less priority guarantee interest 28 57 57 142 227 229 227 227 227 227 less taxes 34 10 10 86 40 40 118 201 248 260 plus tax savings from incremental interest 1 3 3 7 11 11 11 11 11 11 less change in nwc 41 cfo 121 123 121 387 121 515 1 110 1 618 1 909 1 984 less capex 114 114 114 371 457 315 356 350 376 376 less dividends 5 plus other 929 926 cash flow before debt service 693 237 235 163 578 200 754 1 268 1 533 1 608 less maturities borrowings 201 96 106 64 114 621 2 203 1 169 plus net priority guarantee proceeds 2 500 2 500 less special dividend 2 500 2 500 plus incremental priority guranteed borrowings 6 6 change in cash 693 438 140 58 509 81 133 1 268 670 438 ending cash balance 1 237 799 659 659 150 231 364 1 632 962 1 400 current debt outstanding 7 681 7 480 7 575 7 575 7 639 7 526 6 905 6 905 4 702 3 533 priority guarantee bond 2 500 2 500 2 500 2 500 2 500 2 500 2 500 2 500 2 500 2 500 additional cumulative financing required 6 total debt balance 10 181 9 980 10 075 10 075 10 145 10 026 9 405 9 405 7 202 6 033 net debt reduction addition na 237 235 na 578 200 754 1 268 1 533 1 608 net debt ebitda 32 1x 16 7x 8 1x 4 9x 3 2x 2 3x 1 7x note ebitda and capex forecast carry over from 2024 to 2025 source luminus management llc bloomberg even under a below consensus wall street bear case -pron- model indicate enscorowan remain sufficiently capitalize and retain substantial equity value after a 2 5 billion special dividendeven without liability management discount debt repurchase or asset sale rigs count dayrate sk d drillships 18 329 6 g semis 2 275 8500 semis 3 150 2000 jackups 36 112 2004 aro jackups 2 5 112 run rate attributable ebitda 1 700 cash flow q2 19 q3 19 q4 19 2019 2020 2021 2022 2023 2024 2025 attributable ebitda 41 79 75 239 507 975 1 338 1 700 1 700 1 700 less transaction costs 34 34 34 102 37 15 less net cash interest on exist debt 110 108 107 399 426 421 406 384 319 232 less priority guarantee interest 28 57 57 142 227 241 259 252 302 399 less taxes 34 10 10 86 40 40 46 100 109 122 plus tax savings from incremental interest 1 3 3 7 11 12 13 13 15 20 less change in nwc 41 cfo 164 127 130 442 213 270 639 976 985 967 less capex 65 100 126 320 400 325 325 325 325 325 less dividends 5 plus other 929 926 cash flow before debt service 700 227 256 160 613 55 314 651 660 642 less maturities borrowings 201 96 106 64 114 621 2 203 1 169 plus net priority guarantee proceeds 2 500 2 500 less special dividend 2 500 2 500 plus incremental priority guranteed borrowings 44 168 307 519 1 411 527 change in cash 700 429 160 54 505 132 132 end cash balance 1 244 815 655 655 150 150 150 282 150 150 current debt outstanding 7 681 7 480 7 575 7 575 7 639 7 526 6 905 6 905 4 702 3 533 priority guarantee bond 2 500 2 500 2 500 2 500 2 500 2 500 2 500 2 500 2 500 2 500 additional cumulative financing required 44 212 519 1 411 1 938 total debt balance 10 181 9 980 10 075 10 075 10 183 10 237 9 924 9 405 8 613 7 971 net debt reduction addition na 227 256 na 613 55 314 651 660 642 net debt ebitda 39 5x 19 8x 10 3x 7 3x 5 4x 5 0x 4 6x assumes no revolver draw and assume shipyard financing elect extend through period end source luminus management llc bloomberg accord to moodys 2018 and 2019 rating note -pron- believe enscorowan would be under consideration for a multi notch upgrade should debt ebitda be sustain below 6 0xwhich -pron- see even in the out year of the wall street bear case pro forma for the special dividend the industry be in the early stage of a recovery the industry appear to be solidly on the path to recovery despite a decline in oil price in the middle of last year budget season evercore isi 3 26 2019 float rig utilization cross 65 this month to -pron- high level in more than three year more importantly the marketed utilization i e exclude cold stack unit be approach 80 or the high level since november 2015 this be well ahead of -pron- forecast wells fargo 5 5 2019 the more notable takeaway be the commentary and data point suggest a significant step up in udw and moor floater dayrate from 2019 to 2020 other conversation this week also suggest a solid step up in spot udw rate well above 200k from the 150 180k range the most notable change the last few week month have be a tightening in the spot market which -pron- believe be be support by the recent build in backlog among the large publicly trade offshore driller arctic securities 4 9 2019 latest data point with some duration indicate a dayrate hike in the range of usd50 100k vs 2017 18 -pron- also see indication that dayrat for extension have increase somewhat btig 5 30 2019 the on contract floater count stand at 133 rig the high level since july 2018 and up 17 from the bottom in early january equally encourage the contract rig count include rig yet to start work be at 158 the high level since the summer of 2017 the on contract jackup count average 320 rig over the last 4 week the high level since 2q16 and the contract jackup count have average 358 rig over the last 4 week -pron- high level since 4q15 thing be good dnb markets 5 29 2019 -pron- see very little debate among offshore drilling stakeholder that the trough be behind -pron- for dayrate and utilisation to -pron- this also appear acknowledge by investor with a bearish view on the sector in particular the jack up market have perform well in all region recently in term of utilisation and rate conclusion despite the companys high quality asset tangible improvement in the market a one of a kind joint venture with saudi aramco synergy benefit from a just closed transaction value at 1 billion or almost two third of the companys market capitalization and very significant financial flexibility enscorowans stock be trade at -pron- low since 1993 -pron- appear that equity market have not reward the company for -pron- good in class balance sheet strategy this strategy be become increasingly expensive to maintain reduce enscorowans reliance on high cost equity in exchange for low cost senior and junior priority guarantee debt have become essential in -pron- view the board and management should initiate plan to declare a 2 5 billion special dividend this approach would use a portion of enscorowans balance sheet flexibility to appropriately capitalize the company and would be highly accretive for shareholder help to crystallize enscorowans underappreciat fundamental value while allow the company to retain extensive financial flexibility for management to execute on -pron- strategy and for stakeholder to benefit from the offshore drilling recovery that be currently underway approving this transaction would reward long term shareholder who have support and finance enscorowan through the downturn base on the substantial value creation alone luminus be confident that shareholder will support this idea and -pron- encourage the board to initiate plan to raise priority guarantee debt and fund a special dividend luminus would appreciate the opportunity to present this plan to the full enscorowan board of directors and to address any question or concern sincerely jonathan barrett adam weitzman ethan keller about luminus luminus management llc luminus be an investment adviser found in 2002 luminus employ a low net relative value orient strategy that seek to generate alpha via deep fundamental analysis and opportunistic investment across the capital structure of company within the broad energy ecosystem luminus s fund strategy have a general focus on opportunity within north america and -pron- coverage universe include power utility mlp e p driller refiner engineering and construction and coal steel disclaimer the material in this document materials be for informational purpose only and may not be rely on by any person for any purpose and be not and should not be construe as investment financial legal tax or other advice the materials represent the opinion of luminus management llc and -pron- respective affiliate together luminus and have be compile base on publicly available information the materials do not purport to be complete or comprehensive or constitute an agreement offer a solicitation of an offer or any advice to enter into or conclude any transaction or take or refrain from take any other course of action whether on the term show therein or otherwise the materials contain forward look statement specific forward look statement can be identify by the fact that -pron- do not relate strictly to historical or current fact and include without limitation word such as may will expect believe anticipate plan estimate project target forecast seek could or the negative of such term or other variation on such term or comparable terminology similarly statement that describe luminuss objective plan or goal be forward look any forward look statement be base on luminuss current intent belief expectation estimate and projection these statement be not guarantee of future performance and involve risk uncertainty assumption and other factor that be difficult to predict and that could because actual result to differ materially accordingly -pron- should not rely upon forward look statement as a prediction of actual result and actual result may vary materially from what be express in or indicate by the forward look statement all financial datum and estimate as of close of business june 7 2019 any representation statement or opinion express or imply in any of the materials be provide in good faith but only on the basis that no reliance will be place on any of the content therein -pron- should obtain -pron- own professional advice and conduct -pron- own independent evaluation with respect to the subject matter therein luminus expressly disclaim any responsibility or liability for any loss howsoever arise from any use of or reliance on any of the materials or any of -pron- content as a whole or in part by any person or otherwise howsoever arise in connection with the same there be no assurance or guarantee with respect to the price at which any security of the issuer will trade and such security may not trade at price that may be imply herein luminus be not under any obligation to provide any updated or additional information or to correct any inaccuracy in the materials funds manage by luminus currently beneficially own and or have an economic interest in security of enscorowan plc the issuer these fund be in the business of trading buy and sell security -pron- be possible that there will be development in the future include change in price of the issuers security that because one or more of such fund or account from time to time to sell all or a portion of -pron- holding of the issuer in open market transaction or otherwise include via short sale buy additional security in open market or privately negotiate transaction or otherwise or trade in option put call or other derivative instrument relate to some or all of such security to the extent that luminus disclose information about -pron- position or economic interest in the security of the issuer in the materials -pron- be subject to change and luminus expressly disclaim any obligation to update such information the materials shall not constitute an offer to sell or the solicitation of an offer to buy any interest in any fund manage by luminus all trade name trademark service mark and logo herein be the property of -pron- respective owner who retain all proprietary right over -pron- use view source version on businesswire com https www businesswire com news home 20190612005528 en multimedia available https www businesswire com news home 20190612005528 en\n",
            "-pron- seem that the mass and most of the financial medium hate hedge fund and what -pron- do but why be this hatred of hedge fund so prominent at the end of the day these asset management firm do not gamble the hard earn money of the people who be on the edge of poverty truth be tell most hedge fund manager and other small player within this industry be very smart and skilled investor of course -pron- may also make wrong bet in some instance but no one know what the future hold and how market participant will react to the bountiful news that flood in each day the standard and poors 500 index return approximately 20 in the first 9 month of this year through september 30th conversely hedge fund top 20 large cap stock pick generate a return of 24 during the same 9 month period with the majority of these stock pick outperform the broad market benchmark coincidence -pron- may happen to be so but -pron- be unlikely -pron- research cover the last 18 year indicate that hedge fund consensus stock pick generate superior risk adjust return that s why -pron- believe -pron- isn t a waste of time to check out hedge fund sentiment before -pron- invest in a stock like atricure inc nasdaq atrc atricure inc nasdaq atrc be in 20 hedge fund portfolio at the end of the second quarter of 2019 atrc have experience a decrease in support from the world s most elite money manager recently there be 25 hedge fund in -pron- database with atrc position at the end of the previous quarter -pron- calculation also show that atrc isn t among the 30 most popular stock among hedge fund see the video below video click the image to watch -pron- video about the top 5 most popular hedge fund stock 5 most popular stocks among hedge funds more today there be a large number of gauge shareholder employ to appraise -pron- holding a couple of the most innovative gauge be hedge fund and insider trading activity -pron- researcher have show that historically those who follow the top pick of the elite fund manager can outpace the s p 500 by a significant margin see the detail here justin john ferayorni tamarack capital management more unlike former hedge manager dr steve sjuggerud who be convince dow will soar past 40000 -pron- long short investment strategy doesn t rely on bull market to deliver double digit return -pron- only rely on hedge fund buy sell signal let s take a look at the new hedge fund action encompass atricure inc nasdaq atrc how have hedgie be trade atricure inc nasdaq atrc head into the third quarter of 2019 a total of 20 of the hedge fund track by insider monkey hold long position in this stock a change of 20 from one quarter earlier on the other hand there be a total of 18 hedge fund with a bullish position in atrc a year ago with hedgie position undergo -pron- usual ebb and flow there exist a few notable hedge fund manager who be increase -pron- holding considerably or already accumulate large position atrc oct2019 more\n"
          ],
          "name": "stdout"
        }
      ]
    },
    {
      "cell_type": "code",
      "metadata": {
        "id": "TbPYmkTczO5I",
        "colab_type": "code",
        "outputId": "4d818ae3-6e73-4482-c6f9-8e6b9ae2a94f",
        "colab": {
          "base_uri": "https://localhost:8080/",
          "height": 1000
        }
      },
      "source": [
        "sequences[:1]"
      ],
      "execution_count": 0,
      "outputs": [
        {
          "output_type": "execute_result",
          "data": {
            "text/plain": [
              "[[1,\n",
              "  34,\n",
              "  19,\n",
              "  195,\n",
              "  1294,\n",
              "  16,\n",
              "  8,\n",
              "  995,\n",
              "  18053,\n",
              "  10,\n",
              "  1184,\n",
              "  234,\n",
              "  21,\n",
              "  8,\n",
              "  12278,\n",
              "  3,\n",
              "  52,\n",
              "  402,\n",
              "  475,\n",
              "  2,\n",
              "  8,\n",
              "  2071,\n",
              "  21,\n",
              "  1,\n",
              "  2342,\n",
              "  915,\n",
              "  5,\n",
              "  808,\n",
              "  123,\n",
              "  12,\n",
              "  95,\n",
              "  7,\n",
              "  346,\n",
              "  1074,\n",
              "  12,\n",
              "  2320,\n",
              "  2120,\n",
              "  60,\n",
              "  1,\n",
              "  5819,\n",
              "  656,\n",
              "  1140,\n",
              "  60,\n",
              "  27476,\n",
              "  445,\n",
              "  118,\n",
              "  15,\n",
              "  6074,\n",
              "  1271,\n",
              "  4337,\n",
              "  2,\n",
              "  2546,\n",
              "  6,\n",
              "  1339,\n",
              "  980,\n",
              "  1111,\n",
              "  2,\n",
              "  13,\n",
              "  991,\n",
              "  5,\n",
              "  8,\n",
              "  242,\n",
              "  3,\n",
              "  216,\n",
              "  172,\n",
              "  10,\n",
              "  791,\n",
              "  814,\n",
              "  7,\n",
              "  1,\n",
              "  8227,\n",
              "  3,\n",
              "  37,\n",
              "  1207,\n",
              "  255,\n",
              "  1602,\n",
              "  391,\n",
              "  1,\n",
              "  272,\n",
              "  12,\n",
              "  212,\n",
              "  1025,\n",
              "  1,\n",
              "  402,\n",
              "  74,\n",
              "  896,\n",
              "  174,\n",
              "  1,\n",
              "  172,\n",
              "  11,\n",
              "  1212,\n",
              "  1112,\n",
              "  1802,\n",
              "  6,\n",
              "  45,\n",
              "  23,\n",
              "  519,\n",
              "  5,\n",
              "  14377,\n",
              "  123,\n",
              "  12,\n",
              "  18,\n",
              "  21,\n",
              "  545,\n",
              "  7,\n",
              "  1075,\n",
              "  18,\n",
              "  8,\n",
              "  358,\n",
              "  11,\n",
              "  2120,\n",
              "  373,\n",
              "  600,\n",
              "  203,\n",
              "  4,\n",
              "  12,\n",
              "  40,\n",
              "  15,\n",
              "  10853,\n",
              "  22,\n",
              "  15,\n",
              "  687,\n",
              "  15,\n",
              "  1,\n",
              "  19,\n",
              "  1414,\n",
              "  5,\n",
              "  249,\n",
              "  4,\n",
              "  60,\n",
              "  1,\n",
              "  1112,\n",
              "  1491,\n",
              "  148,\n",
              "  396,\n",
              "  1075,\n",
              "  2451,\n",
              "  11,\n",
              "  1623,\n",
              "  1,\n",
              "  312,\n",
              "  681,\n",
              "  3,\n",
              "  3179,\n",
              "  15,\n",
              "  695,\n",
              "  18,\n",
              "  2,\n",
              "  4,\n",
              "  144,\n",
              "  3339,\n",
              "  78,\n",
              "  40,\n",
              "  5,\n",
              "  179,\n",
              "  1,\n",
              "  31,\n",
              "  3,\n",
              "  18,\n",
              "  16,\n",
              "  21300,\n",
              "  66,\n",
              "  1,\n",
              "  1371,\n",
              "  2575,\n",
              "  332,\n",
              "  152,\n",
              "  892,\n",
              "  39,\n",
              "  84,\n",
              "  717,\n",
              "  253,\n",
              "  22,\n",
              "  32,\n",
              "  488,\n",
              "  182,\n",
              "  1,\n",
              "  12,\n",
              "  168,\n",
              "  425,\n",
              "  2510,\n",
              "  491,\n",
              "  32,\n",
              "  1076,\n",
              "  2,\n",
              "  1,\n",
              "  131,\n",
              "  2637,\n",
              "  1000,\n",
              "  14,\n",
              "  235,\n",
              "  4,\n",
              "  399,\n",
              "  4,\n",
              "  12,\n",
              "  6,\n",
              "  6883,\n",
              "  82,\n",
              "  140,\n",
              "  382,\n",
              "  25,\n",
              "  19,\n",
              "  6,\n",
              "  593,\n",
              "  9464,\n",
              "  555,\n",
              "  2,\n",
              "  208,\n",
              "  4,\n",
              "  171,\n",
              "  9464,\n",
              "  4,\n",
              "  2072,\n",
              "  5,\n",
              "  195,\n",
              "  1294,\n",
              "  16,\n",
              "  220,\n",
              "  403,\n",
              "  1434,\n",
              "  208,\n",
              "  4,\n",
              "  171,\n",
              "  6,\n",
              "  6884,\n",
              "  16,\n",
              "  27477,\n",
              "  1052,\n",
              "  3544,\n",
              "  2120,\n",
              "  60,\n",
              "  4,\n",
              "  188,\n",
              "  4,\n",
              "  334,\n",
              "  164,\n",
              "  39,\n",
              "  5212,\n",
              "  250,\n",
              "  4,\n",
              "  173,\n",
              "  593,\n",
              "  1764,\n",
              "  5,\n",
              "  195,\n",
              "  39,\n",
              "  348,\n",
              "  2120,\n",
              "  74,\n",
              "  306,\n",
              "  4,\n",
              "  1480,\n",
              "  181,\n",
              "  9,\n",
              "  241,\n",
              "  382,\n",
              "  1102,\n",
              "  7568,\n",
              "  1050,\n",
              "  7568,\n",
              "  1050,\n",
              "  44,\n",
              "  49,\n",
              "  250,\n",
              "  1,\n",
              "  19,\n",
              "  568,\n",
              "  1009,\n",
              "  3,\n",
              "  1,\n",
              "  4205,\n",
              "  441,\n",
              "  1031,\n",
              "  13,\n",
              "  2511,\n",
              "  15,\n",
              "  3,\n",
              "  327,\n",
              "  216,\n",
              "  788,\n",
              "  717,\n",
              "  21,\n",
              "  4,\n",
              "  907,\n",
              "  42,\n",
              "  94,\n",
              "  99,\n",
              "  79,\n",
              "  10,\n",
              "  1,\n",
              "  491,\n",
              "  3,\n",
              "  8,\n",
              "  1392,\n",
              "  3,\n",
              "  49,\n",
              "  967,\n",
              "  2120,\n",
              "  384,\n",
              "  11,\n",
              "  1908,\n",
              "  2,\n",
              "  2293,\n",
              "  91,\n",
              "  10,\n",
              "  262,\n",
              "  3,\n",
              "  13234,\n",
              "  278,\n",
              "  13,\n",
              "  991,\n",
              "  5,\n",
              "  9052,\n",
              "  7,\n",
              "  1,\n",
              "  14378,\n",
              "  3434,\n",
              "  143,\n",
              "  136,\n",
              "  12,\n",
              "  1728,\n",
              "  155,\n",
              "  5,\n",
              "  6,\n",
              "  37,\n",
              "  1781,\n",
              "  559,\n",
              "  268,\n",
              "  4,\n",
              "  12,\n",
              "  155,\n",
              "  5,\n",
              "  6,\n",
              "  25,\n",
              "  30,\n",
              "  232,\n",
              "  154,\n",
              "  150,\n",
              "  6,\n",
              "  1849,\n",
              "  155,\n",
              "  216,\n",
              "  9,\n",
              "  196,\n",
              "  1298,\n",
              "  4,\n",
              "  188,\n",
              "  4,\n",
              "  12,\n",
              "  519,\n",
              "  980,\n",
              "  3088,\n",
              "  4,\n",
              "  60,\n",
              "  7568,\n",
              "  334,\n",
              "  5,\n",
              "  360,\n",
              "  23,\n",
              "  985,\n",
              "  124,\n",
              "  30,\n",
              "  336,\n",
              "  3,\n",
              "  114,\n",
              "  242,\n",
              "  250,\n",
              "  4,\n",
              "  13,\n",
              "  4,\n",
              "  7990,\n",
              "  5,\n",
              "  5714,\n",
              "  491,\n",
              "  1089,\n",
              "  12279,\n",
              "  13235,\n",
              "  1224,\n",
              "  12279,\n",
              "  476,\n",
              "  468,\n",
              "  242,\n",
              "  250,\n",
              "  1,\n",
              "  568,\n",
              "  2054,\n",
              "  151,\n",
              "  6,\n",
              "  45,\n",
              "  9,\n",
              "  8,\n",
              "  506,\n",
              "  3,\n",
              "  14,\n",
              "  455,\n",
              "  63,\n",
              "  31,\n",
              "  10,\n",
              "  14,\n",
              "  29,\n",
              "  121,\n",
              "  55,\n",
              "  7,\n",
              "  1,\n",
              "  2120,\n",
              "  21301,\n",
              "  21302,\n",
              "  1401,\n",
              "  1,\n",
              "  34,\n",
              "  1000,\n",
              "  39,\n",
              "  84,\n",
              "  24,\n",
              "  7,\n",
              "  1184,\n",
              "  12,\n",
              "  1312,\n",
              "  143,\n",
              "  4,\n",
              "  739,\n",
              "  541,\n",
              "  10,\n",
              "  1102,\n",
              "  4,\n",
              "  171,\n",
              "  155,\n",
              "  5,\n",
              "  195,\n",
              "  8,\n",
              "  114,\n",
              "  301,\n",
              "  5,\n",
              "  179,\n",
              "  25,\n",
              "  605,\n",
              "  4,\n",
              "  60,\n",
              "  12279,\n",
              "  6,\n",
              "  124,\n",
              "  3,\n",
              "  1,\n",
              "  700,\n",
              "  18,\n",
              "  7,\n",
              "  1,\n",
              "  10335,\n",
              "  11,\n",
              "  12,\n",
              "  195,\n",
              "  483,\n",
              "  57,\n",
              "  13235,\n",
              "  1224,\n",
              "  13,\n",
              "  37,\n",
              "  49,\n",
              "  122,\n",
              "  184,\n",
              "  1,\n",
              "  349,\n",
              "  2054,\n",
              "  791,\n",
              "  814,\n",
              "  67,\n",
              "  36,\n",
              "  561,\n",
              "  49,\n",
              "  63,\n",
              "  31,\n",
              "  2,\n",
              "  4206,\n",
              "  27,\n",
              "  3,\n",
              "  89,\n",
              "  46,\n",
              "  144,\n",
              "  330,\n",
              "  788,\n",
              "  756,\n",
              "  26,\n",
              "  59,\n",
              "  26,\n",
              "  57,\n",
              "  31,\n",
              "  6,\n",
              "  216,\n",
              "  39,\n",
              "  84,\n",
              "  782,\n",
              "  308,\n",
              "  327,\n",
              "  199,\n",
              "  3013,\n",
              "  1164,\n",
              "  2263,\n",
              "  1414,\n",
              "  5,\n",
              "  724,\n",
              "  5,\n",
              "  1,\n",
              "  34,\n",
              "  971,\n",
              "  199,\n",
              "  2120,\n",
              "  60,\n",
              "  11,\n",
              "  12,\n",
              "  166,\n",
              "  1339,\n",
              "  1298,\n",
              "  208,\n",
              "  4,\n",
              "  155,\n",
              "  203,\n",
              "  3,\n",
              "  1813,\n",
              "  10,\n",
              "  1,\n",
              "  791,\n",
              "  814,\n",
              "  2527,\n",
              "  310,\n",
              "  1181,\n",
              "  236,\n",
              "  25,\n",
              "  124,\n",
              "  18054,\n",
              "  184,\n",
              "  1,\n",
              "  30,\n",
              "  869,\n",
              "  6885,\n",
              "  5715,\n",
              "  2689,\n",
              "  921,\n",
              "  6885,\n",
              "  360,\n",
              "  8,\n",
              "  468,\n",
              "  44,\n",
              "  7,\n",
              "  1,\n",
              "  1290,\n",
              "  1765,\n",
              "  13,\n",
              "  6,\n",
              "  8,\n",
              "  202,\n",
              "  1358,\n",
              "  7,\n",
              "  1,\n",
              "  1025,\n",
              "  2,\n",
              "  31,\n",
              "  3,\n",
              "  1,\n",
              "  9875,\n",
              "  13,\n",
              "  6,\n",
              "  7027,\n",
              "  198,\n",
              "  349,\n",
              "  1184,\n",
              "  12,\n",
              "  1312,\n",
              "  7569,\n",
              "  3,\n",
              "  472,\n",
              "  26,\n",
              "  5,\n",
              "  252,\n",
              "  1765,\n",
              "  12,\n",
              "  1951,\n",
              "  5,\n",
              "  183,\n",
              "  154,\n",
              "  150,\n",
              "  2120,\n",
              "  60,\n",
              "  97,\n",
              "  143,\n",
              "  25,\n",
              "  34,\n",
              "  195,\n",
              "  1294,\n",
              "  10,\n",
              "  1,\n",
              "  30,\n",
              "  122,\n",
              "  4,\n",
              "  8,\n",
              "  2024,\n",
              "  5715,\n",
              "  2689,\n",
              "  921,\n",
              "  12,\n",
              "  49,\n",
              "  44,\n",
              "  234,\n",
              "  184,\n",
              "  1,\n",
              "  19,\n",
              "  349,\n",
              "  1,\n",
              "  18,\n",
              "  13,\n",
              "  6,\n",
              "  6725,\n",
              "  81,\n",
              "  17,\n",
              "  3928,\n",
              "  78,\n",
              "  45,\n",
              "  5,\n",
              "  4402,\n",
              "  89,\n",
              "  2,\n",
              "  707,\n",
              "  91,\n",
              "  23,\n",
              "  1,\n",
              "  430,\n",
              "  114,\n",
              "  1196,\n",
              "  1,\n",
              "  34,\n",
              "  6,\n",
              "  23,\n",
              "  73,\n",
              "  1546,\n",
              "  39,\n",
              "  84,\n",
              "  24,\n",
              "  79,\n",
              "  84,\n",
              "  4,\n",
              "  682,\n",
              "  183,\n",
              "  5715,\n",
              "  2689,\n",
              "  1849,\n",
              "  45,\n",
              "  211,\n",
              "  4,\n",
              "  12,\n",
              "  681,\n",
              "  3,\n",
              "  1024,\n",
              "  2120,\n",
              "  60,\n",
              "  958,\n",
              "  12,\n",
              "  2471,\n",
              "  166,\n",
              "  4,\n",
              "  13,\n",
              "  5,\n",
              "  60,\n",
              "  250,\n",
              "  4,\n",
              "  1027,\n",
              "  5,\n",
              "  792,\n",
              "  23,\n",
              "  25,\n",
              "  124,\n",
              "  1298,\n",
              "  848,\n",
              "  9465,\n",
              "  3668,\n",
              "  831,\n",
              "  7787,\n",
              "  9465,\n",
              "  44,\n",
              "  49,\n",
              "  7,\n",
              "  1,\n",
              "  1290,\n",
              "  1,\n",
              "  34,\n",
              "  6,\n",
              "  81,\n",
              "  39,\n",
              "  84,\n",
              "  162,\n",
              "  21,\n",
              "  490,\n",
              "  682,\n",
              "  4,\n",
              "  188,\n",
              "  9465,\n",
              "  6,\n",
              "  3435,\n",
              "  166,\n",
              "  264,\n",
              "  7,\n",
              "  25,\n",
              "  27478,\n",
              "  793,\n",
              "  2120,\n",
              "  60,\n",
              "  4,\n",
              "  173,\n",
              "  45,\n",
              "  9,\n",
              "  35,\n",
              "  963,\n",
              "  57,\n",
              "  3668,\n",
              "  831,\n",
              "  13,\n",
              "  8,\n",
              "  468,\n",
              "  122,\n",
              "  250,\n",
              "  1,\n",
              "  2054,\n",
              "  3668,\n",
              "  61,\n",
              "  298,\n",
              "  4,\n",
              "  1113,\n",
              "  4,\n",
              "  832,\n",
              "  282,\n",
              "  40,\n",
              "  5,\n",
              "  800,\n",
              "  336,\n",
              "  13,\n",
              "  1603,\n",
              "  5,\n",
              "  60,\n",
              "  58,\n",
              "  18055,\n",
              "  12280,\n",
              "  46,\n",
              "  6,\n",
              "  1,\n",
              "  2818,\n",
              "  374,\n",
              "  3,\n",
              "  1,\n",
              "  4541,\n",
              "  19,\n",
              "  4,\n",
              "  60,\n",
              "  7787,\n",
              "  360,\n",
              "  49,\n",
              "  184,\n",
              "  594,\n",
              "  70,\n",
              "  1,\n",
              "  34,\n",
              "  13,\n",
              "  541,\n",
              "  58,\n",
              "  309,\n",
              "  7,\n",
              "  159,\n",
              "  382,\n",
              "  4,\n",
              "  67,\n",
              "  124,\n",
              "  39,\n",
              "  7200,\n",
              "  216,\n",
              "  250,\n",
              "  1,\n",
              "  34,\n",
              "  12,\n",
              "  1053,\n",
              "  5,\n",
              "  179,\n",
              "  1,\n",
              "  1140,\n",
              "  60,\n",
              "  1184,\n",
              "  297,\n",
              "  1274,\n",
              "  44,\n",
              "  3407,\n",
              "  12,\n",
              "  6,\n",
              "  202,\n",
              "  82,\n",
              "  196,\n",
              "  1586,\n",
              "  4,\n",
              "  399,\n",
              "  6,\n",
              "  426,\n",
              "  211,\n",
              "  1,\n",
              "  114,\n",
              "  99,\n",
              "  2420,\n",
              "  1952,\n",
              "  2120,\n",
              "  60,\n",
              "  4,\n",
              "  749,\n",
              "  148,\n",
              "  188,\n",
              "  11,\n",
              "  12,\n",
              "  1,\n",
              "  633,\n",
              "  4,\n",
              "  67,\n",
              "  811,\n",
              "  114,\n",
              "  242,\n",
              "  46,\n",
              "  61,\n",
              "  102,\n",
              "  4,\n",
              "  1295,\n",
              "  9,\n",
              "  1,\n",
              "  1983,\n",
              "  5,\n",
              "  306,\n",
              "  4,\n",
              "  811,\n",
              "  150,\n",
              "  707,\n",
              "  1181,\n",
              "  2120,\n",
              "  12,\n",
              "  1480,\n",
              "  181]]"
            ]
          },
          "metadata": {
            "tags": []
          },
          "execution_count": 23
        }
      ]
    },
    {
      "cell_type": "code",
      "metadata": {
        "id": "TPcpdjHizSW3",
        "colab_type": "code",
        "colab": {}
      },
      "source": [
        "length = []\n",
        "for x in x_train:\n",
        "    length.append(len(x.split()))"
      ],
      "execution_count": 0,
      "outputs": []
    },
    {
      "cell_type": "code",
      "metadata": {
        "id": "DW5D9SpEzWIF",
        "colab_type": "code",
        "outputId": "fa3a3101-1bff-4180-b617-6277ac6862a8",
        "colab": {
          "base_uri": "https://localhost:8080/",
          "height": 34
        }
      },
      "source": [
        "max(length)"
      ],
      "execution_count": 0,
      "outputs": [
        {
          "output_type": "execute_result",
          "data": {
            "text/plain": [
              "14743"
            ]
          },
          "metadata": {
            "tags": []
          },
          "execution_count": 25
        }
      ]
    },
    {
      "cell_type": "code",
      "metadata": {
        "id": "rukb8Td2za6q",
        "colab_type": "code",
        "outputId": "4a7e0428-eba5-4551-aa42-58864790c239",
        "colab": {
          "base_uri": "https://localhost:8080/",
          "height": 34
        }
      },
      "source": [
        "x_train_seq = pad_sequences(sequences, maxlen=15000)\n",
        "print('Shape of data tensor:', x_train_seq.shape)"
      ],
      "execution_count": 0,
      "outputs": [
        {
          "output_type": "stream",
          "text": [
            "('Shape of data tensor:', (3045, 15000))\n"
          ],
          "name": "stdout"
        }
      ]
    },
    {
      "cell_type": "code",
      "metadata": {
        "id": "89xZ7y9wzm0g",
        "colab_type": "code",
        "outputId": "47aa88ff-f1c5-4005-d6aa-2061b869a72a",
        "colab": {
          "base_uri": "https://localhost:8080/",
          "height": 103
        }
      },
      "source": [
        "x_train_seq[:5]"
      ],
      "execution_count": 0,
      "outputs": [
        {
          "output_type": "execute_result",
          "data": {
            "text/plain": [
              "array([[    0,     0,     0, ...,    12,  1480,   181],\n",
              "       [    0,     0,     0, ...,  3063,    44,   268],\n",
              "       [    0,     0,     0, ...,  4403,  4702, 27491],\n",
              "       [    0,     0,     0, ...,   430, 18063,  3121],\n",
              "       [    0,     0,     0, ..., 10859,  6083,    39]], dtype=int32)"
            ]
          },
          "metadata": {
            "tags": []
          },
          "execution_count": 27
        }
      ]
    },
    {
      "cell_type": "code",
      "metadata": {
        "id": "t-mHax410GJ8",
        "colab_type": "code",
        "colab": {}
      },
      "source": [
        "sequences_val = tokenizer.texts_to_sequences(x_validation)\n",
        "x_val_seq = pad_sequences(sequences_val, maxlen=15000)"
      ],
      "execution_count": 0,
      "outputs": []
    },
    {
      "cell_type": "code",
      "metadata": {
        "id": "49yolVys0Mke",
        "colab_type": "code",
        "colab": {}
      },
      "source": [
        "num_words = 100000\n",
        "embedding_matrix = np.zeros((num_words, 200))\n",
        "for word, i in tokenizer.word_index.items():\n",
        "    if i >= num_words:\n",
        "        continue\n",
        "    embedding_vector = embeddings_index.get(word)\n",
        "    if embedding_vector is not None:\n",
        "        embedding_matrix[i] = embedding_vector"
      ],
      "execution_count": 0,
      "outputs": []
    },
    {
      "cell_type": "code",
      "metadata": {
        "id": "DrUpANng0Sxu",
        "colab_type": "code",
        "outputId": "68e13c85-f2c3-4e76-82d4-155af7b7b22d",
        "colab": {
          "base_uri": "https://localhost:8080/",
          "height": 34
        }
      },
      "source": [
        "np.array_equal(embedding_matrix[34] ,embeddings_index.get('stock'))"
      ],
      "execution_count": 0,
      "outputs": [
        {
          "output_type": "execute_result",
          "data": {
            "text/plain": [
              "True"
            ]
          },
          "metadata": {
            "tags": []
          },
          "execution_count": 30
        }
      ]
    },
    {
      "cell_type": "code",
      "metadata": {
        "id": "Fg9c0aCv0zOd",
        "colab_type": "code",
        "colab": {}
      },
      "source": [
        "seed = 7\n",
        "\n",
        "from keras.models import Sequential\n",
        "from keras.layers import Dense, Dropout\n",
        "from keras.layers import Flatten\n",
        "from keras.layers.embeddings import Embedding"
      ],
      "execution_count": 0,
      "outputs": []
    },
    {
      "cell_type": "code",
      "metadata": {
        "id": "KbPDHAwG062h",
        "colab_type": "code",
        "outputId": "98dea5fe-3f5c-4e2e-f145-d9e6f8c6b843",
        "colab": {
          "base_uri": "https://localhost:8080/",
          "height": 235
        }
      },
      "source": [
        "model_ptw2v = Sequential()\n",
        "e = Embedding(100000, 200, weights=[embedding_matrix], input_length=15000, trainable=False)\n",
        "model_ptw2v.add(e)\n",
        "model_ptw2v.add(Flatten())\n",
        "model_ptw2v.add(Dense(256, activation='relu'))\n",
        "model_ptw2v.add(Dense(1, activation='sigmoid'))\n",
        "model_ptw2v.compile(loss='binary_crossentropy', optimizer='adam', metrics=['accuracy'])\n",
        "model_ptw2v.fit(x_train_seq, y_train, validation_data=(x_val_seq, y_validation), epochs=5, batch_size=32, verbose=2)"
      ],
      "execution_count": 0,
      "outputs": [
        {
          "output_type": "error",
          "ename": "NameError",
          "evalue": "ignored",
          "traceback": [
            "\u001b[0;31m\u001b[0m",
            "\u001b[0;31mNameError\u001b[0mTraceback (most recent call last)",
            "\u001b[0;32m<ipython-input-1-ba510219dd80>\u001b[0m in \u001b[0;36m<module>\u001b[0;34m()\u001b[0m\n\u001b[0;32m----> 1\u001b[0;31m \u001b[0mmodel_ptw2v\u001b[0m \u001b[0;34m=\u001b[0m \u001b[0mSequential\u001b[0m\u001b[0;34m(\u001b[0m\u001b[0;34m)\u001b[0m\u001b[0;34m\u001b[0m\u001b[0;34m\u001b[0m\u001b[0m\n\u001b[0m\u001b[1;32m      2\u001b[0m \u001b[0me\u001b[0m \u001b[0;34m=\u001b[0m \u001b[0mEmbedding\u001b[0m\u001b[0;34m(\u001b[0m\u001b[0;36m100000\u001b[0m\u001b[0;34m,\u001b[0m \u001b[0;36m200\u001b[0m\u001b[0;34m,\u001b[0m \u001b[0mweights\u001b[0m\u001b[0;34m=\u001b[0m\u001b[0;34m[\u001b[0m\u001b[0membedding_matrix\u001b[0m\u001b[0;34m]\u001b[0m\u001b[0;34m,\u001b[0m \u001b[0minput_length\u001b[0m\u001b[0;34m=\u001b[0m\u001b[0;36m15000\u001b[0m\u001b[0;34m,\u001b[0m \u001b[0mtrainable\u001b[0m\u001b[0;34m=\u001b[0m\u001b[0mFalse\u001b[0m\u001b[0;34m)\u001b[0m\u001b[0;34m\u001b[0m\u001b[0;34m\u001b[0m\u001b[0m\n\u001b[1;32m      3\u001b[0m \u001b[0mmodel_ptw2v\u001b[0m\u001b[0;34m.\u001b[0m\u001b[0madd\u001b[0m\u001b[0;34m(\u001b[0m\u001b[0me\u001b[0m\u001b[0;34m)\u001b[0m\u001b[0;34m\u001b[0m\u001b[0;34m\u001b[0m\u001b[0m\n\u001b[1;32m      4\u001b[0m \u001b[0mmodel_ptw2v\u001b[0m\u001b[0;34m.\u001b[0m\u001b[0madd\u001b[0m\u001b[0;34m(\u001b[0m\u001b[0mFlatten\u001b[0m\u001b[0;34m(\u001b[0m\u001b[0;34m)\u001b[0m\u001b[0;34m)\u001b[0m\u001b[0;34m\u001b[0m\u001b[0;34m\u001b[0m\u001b[0m\n\u001b[1;32m      5\u001b[0m \u001b[0mmodel_ptw2v\u001b[0m\u001b[0;34m.\u001b[0m\u001b[0madd\u001b[0m\u001b[0;34m(\u001b[0m\u001b[0mDense\u001b[0m\u001b[0;34m(\u001b[0m\u001b[0;36m256\u001b[0m\u001b[0;34m,\u001b[0m \u001b[0mactivation\u001b[0m\u001b[0;34m=\u001b[0m\u001b[0;34m'relu'\u001b[0m\u001b[0;34m)\u001b[0m\u001b[0;34m)\u001b[0m\u001b[0;34m\u001b[0m\u001b[0;34m\u001b[0m\u001b[0m\n",
            "\u001b[0;31mNameError\u001b[0m: name 'Sequential' is not defined"
          ]
        }
      ]
    },
    {
      "cell_type": "code",
      "metadata": {
        "id": "ACWvd9m-0_NO",
        "colab_type": "code",
        "outputId": "de2c2870-2153-406f-c41c-18ece0f027dc",
        "colab": {
          "base_uri": "https://localhost:8080/",
          "height": 51
        }
      },
      "source": [
        "model_ptw2v = Sequential()\n",
        "e = Embedding(100000, 200, input_length=15000)\n",
        "model_ptw2v.add(e)\n",
        "model_ptw2v.add(Flatten())\n",
        "model_ptw2v.add(Dense(256, activation='relu'))\n",
        "model_ptw2v.add(Dense(1, activation='sigmoid'))\n",
        "model_ptw2v.compile(loss='binary_crossentropy', optimizer='adam', metrics=['accuracy'])\n",
        "model_ptw2v.fit(x_train_seq, y_train, validation_data=(x_val_seq, y_validation), epochs=5, batch_size=32, verbose=2)"
      ],
      "execution_count": 0,
      "outputs": [
        {
          "output_type": "stream",
          "text": [
            "Train on 3045 samples, validate on 762 samples\n",
            "Epoch 1/5\n"
          ],
          "name": "stdout"
        }
      ]
    },
    {
      "cell_type": "code",
      "metadata": {
        "id": "WxUeLVbp1N6g",
        "colab_type": "code",
        "colab": {}
      },
      "source": [
        "model_ptw2v = Sequential()\n",
        "e = Embedding(100000, 200, weights=[embedding_matrix], input_length=15000, trainable=True)\n",
        "model_ptw2v.add(e)\n",
        "model_ptw2v.add(Flatten())\n",
        "model_ptw2v.add(Dense(256, activation='relu'))\n",
        "model_ptw2v.add(Dense(1, activation='sigmoid'))\n",
        "model_ptw2v.compile(loss='binary_crossentropy', optimizer='adam', metrics=['accuracy'])\n",
        "model_ptw2v.fit(x_train_seq, y_train, validation_data=(x_val_seq, y_validation), epochs=5, batch_size=32, verbose=2)"
      ],
      "execution_count": 0,
      "outputs": []
    },
    {
      "cell_type": "code",
      "metadata": {
        "id": "W9StW1031W0f",
        "colab_type": "code",
        "colab": {}
      },
      "source": [
        "from keras.layers import Conv1D, GlobalMaxPooling1D"
      ],
      "execution_count": 0,
      "outputs": []
    },
    {
      "cell_type": "code",
      "metadata": {
        "id": "4UuxvhKD1kJX",
        "colab_type": "code",
        "colab": {}
      },
      "source": [
        "structure_test = Sequential()\n",
        "e = Embedding(100000, 200, input_length=15000)\n",
        "structure_test.add(e)\n",
        "structure_test.add(Conv1D(filters=100, kernel_size=2, padding='valid', activation='relu', strides=1))\n",
        "structure_test.summary()"
      ],
      "execution_count": 0,
      "outputs": []
    },
    {
      "cell_type": "code",
      "metadata": {
        "id": "JfoyTYQa1qEY",
        "colab_type": "code",
        "colab": {}
      },
      "source": [
        "structure_test = Sequential()\n",
        "e = Embedding(100000, 200, input_length=15000)\n",
        "structure_test.add(e)\n",
        "structure_test.add(Conv1D(filters=100, kernel_size=2, padding='valid', activation='relu', strides=1))\n",
        "structure_test.add(GlobalMaxPooling1D())\n",
        "structure_test.summary()"
      ],
      "execution_count": 0,
      "outputs": []
    },
    {
      "cell_type": "code",
      "metadata": {
        "id": "aOgsIYlV1wRT",
        "colab_type": "code",
        "colab": {}
      },
      "source": [
        "model_cnn_01 = Sequential()\n",
        "e = Embedding(100000, 200, weights=[embedding_matrix], input_length=15000, trainable=False)\n",
        "model_cnn_01.add(e)\n",
        "model_cnn_01.add(Conv1D(filters=100, kernel_size=2, padding='valid', activation='relu', strides=1))\n",
        "model_cnn_01.add(GlobalMaxPooling1D())\n",
        "model_cnn_01.add(Dense(256, activation='relu'))\n",
        "model_cnn_01.add(Dense(1, activation='sigmoid'))\n",
        "model_cnn_01.compile(loss='binary_crossentropy', optimizer='adam', metrics=['accuracy'])\n",
        "model_cnn_01.fit(x_train_seq, y_train, validation_data=(x_val_seq, y_validation), epochs=5, batch_size=32, verbose=2)"
      ],
      "execution_count": 0,
      "outputs": []
    },
    {
      "cell_type": "code",
      "metadata": {
        "id": "Tml97KJK11m1",
        "colab_type": "code",
        "colab": {}
      },
      "source": [
        "model_cnn_02 = Sequential()\n",
        "e = Embedding(100000, 200, input_length=15000)\n",
        "model_cnn_02.add(e)\n",
        "model_cnn_02.add(Conv1D(filters=100, kernel_size=2, padding='valid', activation='relu', strides=1))\n",
        "model_cnn_02.add(GlobalMaxPooling1D())\n",
        "model_cnn_02.add(Dense(256, activation='relu'))\n",
        "model_cnn_02.add(Dense(1, activation='sigmoid'))\n",
        "model_cnn_02.compile(loss='binary_crossentropy', optimizer='adam', metrics=['accuracy'])\n",
        "model_cnn_02.fit(x_train_seq, y_train, validation_data=(x_val_seq, y_validation), epochs=5, batch_size=32, verbose=2)"
      ],
      "execution_count": 0,
      "outputs": []
    },
    {
      "cell_type": "code",
      "metadata": {
        "id": "-EYXRnuI159C",
        "colab_type": "code",
        "colab": {}
      },
      "source": [
        "model_cnn_03 = Sequential()\n",
        "e = Embedding(100000, 200, weights=[embedding_matrix], input_length=15000, trainable=True)\n",
        "model_cnn_03.add(e)\n",
        "model_cnn_03.add(Conv1D(filters=100, kernel_size=2, padding='valid', activation='relu', strides=1))\n",
        "model_cnn_03.add(GlobalMaxPooling1D())\n",
        "model_cnn_03.add(Dense(256, activation='relu'))\n",
        "model_cnn_03.add(Dense(1, activation='sigmoid'))\n",
        "model_cnn_03.compile(loss='binary_crossentropy', optimizer='adam', metrics=['accuracy'])\n",
        "model_cnn_03.fit(x_train_seq, y_train, validation_data=(x_val_seq, y_validation), epochs=5, batch_size=32, verbose=2)"
      ],
      "execution_count": 0,
      "outputs": []
    },
    {
      "cell_type": "code",
      "metadata": {
        "id": "hJ_FY-TB1_-c",
        "colab_type": "code",
        "colab": {}
      },
      "source": [
        "from keras.layers import Input, Dense, concatenate, Activation\n",
        "from keras.models import Model\n",
        "\n",
        "tweet_input = Input(shape=(15000,), dtype='int32')\n",
        "\n",
        "tweet_encoder = Embedding(100000, 200, weights=[embedding_matrix], input_length=15000, trainable=True)(tweet_input)\n",
        "bigram_branch = Conv1D(filters=100, kernel_size=2, padding='valid', activation='relu', strides=1)(tweet_encoder)\n",
        "bigram_branch = GlobalMaxPooling1D()(bigram_branch)\n",
        "trigram_branch = Conv1D(filters=100, kernel_size=3, padding='valid', activation='relu', strides=1)(tweet_encoder)\n",
        "trigram_branch = GlobalMaxPooling1D()(trigram_branch)\n",
        "fourgram_branch = Conv1D(filters=100, kernel_size=4, padding='valid', activation='relu', strides=1)(tweet_encoder)\n",
        "fourgram_branch = GlobalMaxPooling1D()(fourgram_branch)\n",
        "merged = concatenate([bigram_branch, trigram_branch, fourgram_branch], axis=1)\n",
        "\n",
        "merged = Dense(256, activation='relu')(merged)\n",
        "merged = Dropout(0.2)(merged)\n",
        "merged = Dense(1)(merged)\n",
        "output = Activation('sigmoid')(merged)\n",
        "model = Model(inputs=[tweet_input], outputs=[output])\n",
        "model.compile(loss='binary_crossentropy',\n",
        "                  optimizer='adam',\n",
        "                  metrics=['accuracy'])\n",
        "model.summary()"
      ],
      "execution_count": 0,
      "outputs": []
    },
    {
      "cell_type": "code",
      "metadata": {
        "id": "SOA867Da2Nzs",
        "colab_type": "code",
        "colab": {}
      },
      "source": [
        "from keras.callbacks import ModelCheckpoint\n",
        "\n",
        "filepath=\"CNN_best_weights.{epoch:02d}-{val_acc:.4f}.hdf5\"\n",
        "checkpoint = ModelCheckpoint(filepath, monitor='val_acc', verbose=1, save_best_only=True, mode='max')\n",
        "\n",
        "model.fit(x_train_seq, y_train, batch_size=32, epochs=5,\n",
        "                     validation_data=(x_val_seq, y_validation), callbacks = [checkpoint])"
      ],
      "execution_count": 0,
      "outputs": []
    },
    {
      "cell_type": "code",
      "metadata": {
        "id": "jNbndWC02Vak",
        "colab_type": "code",
        "colab": {}
      },
      "source": [
        "from keras.models import load_model\n",
        "loaded_CNN_model = load_model('CNN_best_weights.02-0.8333.hdf5')\n",
        "loaded_CNN_model.evaluate(x=x_val_seq, y=y_validation)"
      ],
      "execution_count": 0,
      "outputs": []
    },
    {
      "cell_type": "code",
      "metadata": {
        "id": "8EBmuh9_2_0O",
        "colab_type": "code",
        "colab": {}
      },
      "source": [
        "sequences_test = tokenizer.texts_to_sequences(x_test)\n",
        "x_test_seq = pad_sequences(sequences_test, maxlen=45)"
      ],
      "execution_count": 0,
      "outputs": []
    },
    {
      "cell_type": "code",
      "metadata": {
        "id": "wjVGniM13RTb",
        "colab_type": "code",
        "colab": {}
      },
      "source": [
        "loaded_CNN_model.evaluate(x=x_test_seq, y=y_test)"
      ],
      "execution_count": 0,
      "outputs": []
    },
    {
      "cell_type": "code",
      "metadata": {
        "id": "g_dm4UpY3Zi-",
        "colab_type": "code",
        "colab": {}
      },
      "source": [
        "yhat_cnn = loaded_CNN_model.predict(x_test_seq)"
      ],
      "execution_count": 0,
      "outputs": []
    },
    {
      "cell_type": "code",
      "metadata": {
        "id": "88bB-GDj3ajx",
        "colab_type": "code",
        "colab": {}
      },
      "source": [
        "from sklearn.metrics import roc_curve, auc\n",
        "fpr, tpr, threshold = roc_curve(y_test, yhat_lr[:,1])\n",
        "roc_auc = auc(fpr, tpr)\n",
        "fpr_cnn, tpr_cnn, threshold = roc_curve(y_test, yhat_cnn)\n",
        "roc_auc_nn = auc(fpr_cnn, tpr_cnn)\n",
        "plt.figure(figsize=(8,7))\n",
        "plt.plot(fpr, tpr, label='tfidf-logit (area = %0.3f)' % roc_auc, linewidth=2)\n",
        "plt.plot(fpr_cnn, tpr_cnn, label='w2v-CNN (area = %0.3f)' % roc_auc_nn, linewidth=2)\n",
        "\n",
        "plt.plot([0, 1], [0, 1], 'k--', linewidth=2)\n",
        "plt.xlim([-0.05, 1.0])\n",
        "plt.ylim([-0.05, 1.05])\n",
        "plt.xlabel('False Positive Rate', fontsize=18)\n",
        "plt.ylabel('True Positive Rate', fontsize=18)\n",
        "plt.title('Receiver operating characteristic: is positive', fontsize=18)\n",
        "plt.legend(loc=\"lower right\")\n",
        "plt.show()"
      ],
      "execution_count": 0,
      "outputs": []
    }
  ]
}