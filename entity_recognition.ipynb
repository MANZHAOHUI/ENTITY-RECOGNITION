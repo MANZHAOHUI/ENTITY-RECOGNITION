{
 "cells": [
  {
   "cell_type": "code",
   "execution_count": null,
   "metadata": {},
   "outputs": [],
   "source": [
    "import spacy\n",
    "from spacy import displacy\n",
    "\n",
    "\n",
    "\n",
    "en_nlp = spacy.load('en_core_web_sm')\n",
    "de_nlp = spacy.load('de_core_news_sm')\n",
    "\n",
    "en_doc = en_nlp(u'Apple is looking at buying U.K. startup for $1 billion')\n",
    "displacy.render(en_doc, style='ent', jupyter=True)\n",
    "\n",
    "de_doc = de_nlp(u'Apple kauft für 1 Milliarde US-Dollar das UK-Startup')\n",
    "displacy.render(de_doc, style='ent', jupyter=True)\n",
    "\n",
    "# displacy.serve(de_doc, style=\"ent\")\n"
   ]
  },
  {
   "cell_type": "code",
   "execution_count": null,
   "metadata": {},
   "outputs": [],
   "source": [
    "import csv\n",
    "\n",
    "output_rows = [['iSchool', 'Related person']]\n",
    "\n",
    "with open('iSchools.csv', newline='') as f:\n",
    "    reader = csv.DictReader(f)\n",
    "    for row in reader:\n",
    "        nlp = en_nlp if row['Language'] == 'en' else de_nlp\n",
    "        doc = nlp(row['History'])\n",
    "        #displacy.render(doc, style='ent', jupyter=True)\n",
    "        for ent in doc.ents:\n",
    "            if ent.label_ == 'PERSON':\n",
    "                output_rows.append([row['iSchool'], ent.text])\n",
    "\n",
    "with open('iSchoolEntities.csv', 'w', newline='') as f:\n",
    "    writer = csv.writer(f)\n",
    "    writer.writerows(output_rows)"
   ]
  }
 ],
 "metadata": {
  "kernelspec": {
   "display_name": "Python 3",
   "language": "python",
   "name": "python3"
  },
  "language_info": {
   "codemirror_mode": {
    "name": "ipython",
    "version": 3
   },
   "file_extension": ".py",
   "mimetype": "text/x-python",
   "name": "python",
   "nbconvert_exporter": "python",
   "pygments_lexer": "ipython3",
   "version": "3.6.7"
  }
 },
 "nbformat": 4,
 "nbformat_minor": 2
}
